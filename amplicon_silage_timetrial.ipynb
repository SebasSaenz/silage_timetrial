{
 "cells": [
  {
   "cell_type": "markdown",
   "id": "22cbacd3-a8d0-41d0-8934-3ece770f01f7",
   "metadata": {
    "tags": []
   },
   "source": [
    "# Amplicon silage time-trial"
   ]
  },
  {
   "cell_type": "code",
   "execution_count": null,
   "id": "71571dff-2e17-41ba-a1c1-f17a498ae8b6",
   "metadata": {},
   "outputs": [],
   "source": [
    "#bash funtion and main path\n",
    "def bash(string,name,queue):\n",
    "  script = \"%s.sh\"%name\n",
    "  with open(script, \"w\") as text_file:\n",
    "    text_file.write(string)\n",
    "  !chmod +x $script\n",
    "  !qsub -q $queue $script\n",
    "  !rm $script\n",
    "\n",
    "ws = '/beegfs/work/workspace/ws/user-silage_timetrial-0/16srna/'\n",
    "!rm -r raw_data/.ipynb_checkpoints"
   ]
  },
  {
   "cell_type": "markdown",
   "id": "50ca353c-af1f-4f3a-94e4-c96785c4cb7e",
   "metadata": {
    "tags": []
   },
   "source": [
    "# Demultiplex with sabre"
   ]
  },
  {
   "cell_type": "code",
   "execution_count": null,
   "id": "c216da98-cb2d-4bcb-9fb5-aa745c393fcb",
   "metadata": {},
   "outputs": [],
   "source": [
    "#this was done by Timur\n",
    "import pandas as pd\n",
    "\n",
    "bc = pd.read_csv('Johan_Anthonia_samples.tsv', sep='\\t') \n",
    "bc.Index = bc.Index.str.replace(' ', '_')\n",
    "bc = bc[['Sample ID', 'BC', 'Index']]\n",
    "\n",
    "bc.to_csv('barcodes.tsv', sep='\\t', index=False) # save metadata"
   ]
  },
  {
   "cell_type": "code",
   "execution_count": null,
   "id": "e3c5b94b-8cc9-42cf-a8d4-e79445548492",
   "metadata": {},
   "outputs": [],
   "source": [
    "import pandas as pd\n",
    "\n",
    "met = pd.read_csv('barcodes.tsv',sep='\\t',index_col=0)\n",
    "for ri in met.Index.unique():\n",
    "    !mkdir -p Demux/$ri\n",
    "    meta = met.loc[met.Index == ri].copy()\n",
    "    print(ri)\n",
    "    display(meta)\n",
    "    meta['r1'] = f'Demux/{ri}/' + meta.index +'_'+ meta.BC +'_L001_R1_001.fastq'\n",
    "    meta['r2'] = f'Demux/{ri}/' + meta.index +'_'+ meta.BC +'_L001_R2_001.fastq'\n",
    "    meta.set_index('BC', inplace=True)\n",
    "    meta.drop('Index', axis=1, inplace=True)\n",
    "    meta.to_csv(f'Demux/{ri}/bc.txt', sep='\\t', header=False)\n",
    "    bc = f'Demux/{ri}/bc.txt'\n",
    "    #start here\n",
    "    ind = ri.split('_')[-1]\n",
    "    f = f'Mux/InsPPhyt_r2_i{ind}/*1.fq.gz'\n",
    "    r = f'Mux/InsPPhyt_r2_i{ind}/*2.fq.gz'\n",
    "    u = f'Demux/{ri}/no_bc_match_{ind}_R1.fastq'\n",
    "    w = f'Demux/{ri}/no_bc_match_{ind}_R2.fastq'\n",
    "    !sabre pe -m 0 -f $f -r $r -b $bc -u $u -w $w\n",
    "    #!rm $bc\n",
    "    !pigz Demux/$ri/*.fastq #faster alternative to gzip!"
   ]
  },
  {
   "cell_type": "code",
   "execution_count": null,
   "id": "23cb77ca-76b8-4625-822e-6e26f8c94838",
   "metadata": {},
   "outputs": [],
   "source": [
    "#unzip data\n",
    "!unzip -q "
   ]
  },
  {
   "cell_type": "markdown",
   "id": "0fd6cc27-64a3-4ad9-bec5-404747dfc476",
   "metadata": {
    "tags": []
   },
   "source": [
    "# Import data"
   ]
  },
  {
   "cell_type": "code",
   "execution_count": null,
   "id": "5edc1d39-4148-420e-85b6-a14b7a2ff6c6",
   "metadata": {},
   "outputs": [],
   "source": [
    "string = '''\n",
    "#PBS -l nodes=1:ppn=10\n",
    "#PBS -l walltime=08:00:00\n",
    "#PBS -l mem=10gb\n",
    "#PBS -S /bin/bash\n",
    "\n",
    "source /beegfs/work/workspace/ws/user-conda-0/conda/etc/profile.d/conda.sh\n",
    "conda activate qiime2-2022.8\n",
    "\n",
    "qiime tools import \\\n",
    "  --type 'SampleData[PairedEndSequencesWithQuality]' \\\n",
    "  --input-path %s \\\n",
    "  --input-format CasavaOneEightSingleLanePerSampleDirFmt \\\n",
    "  --output-path %s\n",
    "'''\n",
    "in_folfer = ws+'raw_data/'\n",
    "out = ws+'demux-paired-end.qza'\n",
    "bash(string%(in_folfer, out),'import_qiime','short')"
   ]
  },
  {
   "cell_type": "markdown",
   "id": "e810ccf8-937f-4991-8eef-ef4cd43b4fbe",
   "metadata": {
    "tags": []
   },
   "source": [
    "# Remove adapters"
   ]
  },
  {
   "cell_type": "code",
   "execution_count": null,
   "id": "0f75207a-1842-4cb4-a045-6a72a7bd6911",
   "metadata": {},
   "outputs": [],
   "source": [
    "string = '''\n",
    "#PBS -l nodes=1:ppn=14\n",
    "#PBS -l walltime=10:00:00\n",
    "#PBS -l mem=64gb\n",
    "#PBS -S /bin/bash\n",
    "\n",
    "source /beegfs/work/workspace/ws/user-conda-0/conda/etc/profile.d/conda.sh\n",
    "conda activate qiime2-2022.8\n",
    "\n",
    "qiime cutadapt trim-paired \\\n",
    "    --i-demultiplexed-sequences %s \\\n",
    "    --o-trimmed-sequences %s \\\n",
    "    --p-cores 14 \\\n",
    "    --p-front-f CAAGRGTTHGATYMTGGCTCAG \\\n",
    "    --p-front-r TGCTGCCTCCCGTAGGAGT \\\n",
    "    --p-match-adapter-wildcards \\\n",
    "    --p-discard-untrimmed \\\n",
    "    --p-match-read-wildcards\n",
    "'''\n",
    "!mkdir no_adaptor\n",
    "in_file = ws+'demux-paired-end.qza'\n",
    "out_file = ws+'no_adaptor/demux-no_adaptor.qza'\n",
    "bash(string%(in_file, out_file),'demux_sum_qiime','short')"
   ]
  },
  {
   "cell_type": "code",
   "execution_count": null,
   "id": "0d77ff51-1bbe-4dfd-916c-601d189804a7",
   "metadata": {},
   "outputs": [],
   "source": [
    "# Create a summary to visualize\n",
    "string = '''\n",
    "#PBS -l nodes=1:ppn=10\n",
    "#PBS -l walltime=08:00:00\n",
    "#PBS -l mem=10gb\n",
    "#PBS -S /bin/bash\n",
    "\n",
    "source /beegfs/work/workspace/ws/user-conda-0/conda/etc/profile.d/conda.sh\n",
    "conda activate qiime2-2022.8\n",
    "\n",
    "qiime demux summarize \\\n",
    "  --i-data %s \\\n",
    "  --o-visualization %s\n",
    "'''\n",
    "in_folfer = ws+'no_adaptor/demux-no_adaptor.qza'\n",
    "out = ws+'no_adaptor/demux-no_adaptor.qzv'\n",
    "bash(string%(in_folfer, out),'demux_sum_qiime','short')"
   ]
  },
  {
   "cell_type": "markdown",
   "id": "a7c22284-3502-46c1-a8b7-07f575406050",
   "metadata": {},
   "source": [
    "# Quality control and feature table construction"
   ]
  },
  {
   "cell_type": "code",
   "execution_count": null,
   "id": "258a213e-5e98-42ad-a8a6-b54e9adb3475",
   "metadata": {},
   "outputs": [],
   "source": [
    "string = '''\n",
    "#PBS -l nodes=1:ppn=14\n",
    "#PBS -l walltime=08:00:00\n",
    "#PBS -l mem=64gb\n",
    "#PBS -S /bin/bash\n",
    "\n",
    "source /beegfs/work/workspace/ws/user-conda-0/conda/etc/profile.d/conda.sh\n",
    "conda activate qiime2-2022.8\n",
    "\n",
    "qiime dada2 denoise-paired \\\n",
    "    --i-demultiplexed-seqs %s \\\n",
    "    --p-trunc-len-f 180 \\\n",
    "    --p-trunc-len-r 180 \\\n",
    "    --p-n-threads 14 \\\n",
    "    --o-table %s \\\n",
    "    --o-representative-sequences %s \\\n",
    "    --o-denoising-stats %s\n",
    "'''\n",
    "\n",
    "!mkdir dada2\n",
    "in_file = ws+'no_adaptor/demux-no_adaptor.qza'\n",
    "representative = ws+'dada2/rep-seqs-dada2.qza'\n",
    "table = ws+'dada2/table-dada2.qza'\n",
    "stats = ws+'dada2/stats-dada2.qza'\n",
    "bash(string%(in_file, table, representative, stats),'dada2','short')"
   ]
  },
  {
   "cell_type": "code",
   "execution_count": null,
   "id": "fcd5b0fe-cf31-498c-98ed-2a18d4f69f1e",
   "metadata": {},
   "outputs": [],
   "source": [
    "# Create a summary to visualize\n",
    "string = '''\n",
    "#PBS -l nodes=1:ppn=10\n",
    "#PBS -l walltime=08:00:00\n",
    "#PBS -l mem=10gb\n",
    "#PBS -S /bin/bash\n",
    "\n",
    "source /beegfs/work/workspace/ws/user-conda-0/conda/etc/profile.d/conda.sh\n",
    "conda activate qiime2-2022.8\n",
    "\n",
    "qiime feature-table tabulate-seqs \\\n",
    "    --i-data %s \\\n",
    "    --o-visualization %s\n",
    "\n",
    "qiime metadata tabulate \\\n",
    "    --m-input-file %s \\\n",
    "    --o-visualization %s\n",
    "\n",
    "qiime feature-table summarize \\\n",
    "    --i-table %s \\\n",
    "    --o-visualization %s\n",
    "'''\n",
    "\n",
    "seqs = ws+'dada2/rep-seqs-dada2.qza'\n",
    "out_seqs = ws+'dada2/rep-seqs-dada2.qzv'\n",
    "stats = ws+'dada2/stats-dada2.qza' \n",
    "out_stats = ws+'dada2/stats-dada2.qzv'\n",
    "table = ws+'dada2/table-dada2.qza'\n",
    "out_table = ws+'dada2/table-dada2.qzv'\n",
    "bash(string%(seqs, out_seqs, stats, out_stats, table,out_table),'dada2_summa','short')"
   ]
  },
  {
   "cell_type": "markdown",
   "id": "cf9a2c47-2f78-45d5-8dcc-a7da0fe3550f",
   "metadata": {},
   "source": [
    "# filter rare ASVs"
   ]
  },
  {
   "cell_type": "code",
   "execution_count": null,
   "id": "1434877b-02df-4549-82bd-dc62e421484d",
   "metadata": {},
   "outputs": [],
   "source": [
    "string = '''\n",
    "#PBS -l nodes=1:ppn=14\n",
    "#PBS -l walltime=08:00:00\n",
    "#PBS -l mem=64gb\n",
    "#PBS -S /bin/bash\n",
    "\n",
    "source /beegfs/work/workspace/ws/user-conda-0/conda/etc/profile.d/conda.sh\n",
    "conda activate qiime2-2022.8\n",
    "\n",
    "qiime feature-table filter-features \\\n",
    "    --i-table %s \\\n",
    "    --p-min-frequency 50 \\\n",
    "    --p-min-samples 2 \\\n",
    "    --o-filtered-table %s\n",
    "\n",
    "qiime feature-table filter-seqs \\\n",
    "    --i-data %s \\\n",
    "    --i-table %s \\\n",
    "    --o-filtered-data %s\n",
    "'''\n",
    "\n",
    "!mkdir filtered_50_data\n",
    "in_table = ws+'dada2/table-dada2.qza'\n",
    "out_table = ws+'filtered_50_data/table-50_dada2.qza'\n",
    "in_seq = ws+'dada2/rep-seqs-dada2.qza'\n",
    "in_filtered_table = ws+'filtered_50_data/table-50_dada2.qza'\n",
    "out_filtered_table =ws+'filtered_50_data/rep-seqs-50_dada2.qza'\n",
    "bash(string%(in_table, out_table,in_seq, in_filtered_table, out_filtered_table),'filter_qiime','short')\n"
   ]
  },
  {
   "cell_type": "markdown",
   "id": "cf96d09e-61ed-4131-9e5f-c054dc6b8437",
   "metadata": {},
   "source": [
    "# make a tree"
   ]
  },
  {
   "cell_type": "code",
   "execution_count": null,
   "id": "efa53c24-397f-43dc-a66b-cf0066bc801b",
   "metadata": {},
   "outputs": [],
   "source": [
    "string = '''\n",
    "#PBS -l nodes=1:ppn=10\n",
    "#PBS -l walltime=08:00:00\n",
    "#PBS -l mem=10gb\n",
    "#PBS -S /bin/bash\n",
    "\n",
    "source /beegfs/work/workspace/ws/user-conda-0/conda/etc/profile.d/conda.sh\n",
    "conda activate qiime2-2022.8\n",
    "\n",
    "qiime phylogeny align-to-tree-mafft-fasttree \\\n",
    "  --i-sequences %s \\\n",
    "  --o-alignment %s \\\n",
    "  --o-masked-alignment %s \\\n",
    "  --o-tree %s \\\n",
    "  --o-rooted-tree %s\n",
    "'''\n",
    "!mkdir tree\n",
    "\n",
    "seqs = ws+'filtered_50_data/rep-seqs-50_dada2.qza'\n",
    "aligment_out = ws+'tree/aligned-rep-seqs.qza'\n",
    "masked_aligned = ws+'tree/masked-aligned-rep-seqs.qza'\n",
    "unrooted_tree = ws+'tree/unrooted-tree.qza'\n",
    "rooted_tree = ws+'tree/rooted-tree.qza'\n",
    "bash(string%(seqs, aligment_out, masked_aligned, unrooted_tree, rooted_tree),'dada2_summa','short')"
   ]
  },
  {
   "cell_type": "markdown",
   "id": "37030685-41af-4bcd-a50e-17c0d3161478",
   "metadata": {},
   "source": [
    "# core metrics"
   ]
  },
  {
   "cell_type": "code",
   "execution_count": null,
   "id": "7d054838-d757-4c3b-b65d-973abb02143c",
   "metadata": {},
   "outputs": [],
   "source": [
    "string = '''\n",
    "#PBS -l nodes=1:ppn=10\n",
    "#PBS -l walltime=08:00:00\n",
    "#PBS -l mem=10gb\n",
    "#PBS -S /bin/bash\n",
    "\n",
    "source /beegfs/work/workspace/ws/user-conda-0/conda/etc/profile.d/conda.sh\n",
    "conda activate qiime2-2022.8\n",
    "\n",
    "qiime diversity core-metrics-phylogenetic \\\n",
    "  --i-phylogeny %s \\\n",
    "  --i-table %s \\\n",
    "  --p-sampling-depth 26000 \\\n",
    "  --m-metadata-file %s \\\n",
    "  --output-dir %s\n",
    "'''\n",
    "\n",
    "tree = ws+'tree/rooted-tree.qza'\n",
    "table = ws+'filtered_50_data/table-50_dada2.qza'\n",
    "metadata = ws+'amplicon_metadata.txt'\n",
    "output = ws+'core_metrics'\n",
    "bash(string%(tree, table, metadata, output),'core_qiime','short')"
   ]
  },
  {
   "cell_type": "markdown",
   "id": "1912dc6d-829c-422b-a53b-8b348a54f1bb",
   "metadata": {},
   "source": [
    "# Alpha rarefaction"
   ]
  },
  {
   "cell_type": "code",
   "execution_count": null,
   "id": "d603aec3-c30f-4eac-8187-1093a01636c9",
   "metadata": {},
   "outputs": [],
   "source": [
    "string = '''\n",
    "#PBS -l nodes=1:ppn=10\n",
    "#PBS -l walltime=08:00:00\n",
    "#PBS -l mem=64gb\n",
    "#PBS -S /bin/bash\n",
    "\n",
    "source /beegfs/work/workspace/ws/user-conda-0/conda/etc/profile.d/conda.sh\n",
    "conda activate qiime2-2022.8\n",
    "\n",
    "qiime diversity alpha-rarefaction \\\n",
    "  --i-table %s \\\n",
    "  --i-phylogeny %s \\\n",
    "  --p-max-depth 26000 \\\n",
    "  --m-metadata-file %s \\\n",
    "  --o-visualization %s\n",
    "'''\n",
    "\n",
    "table = ws+'filtered_50_data/table-50_dada2.qza'\n",
    "tree = ws+'tree/rooted-tree.qza'\n",
    "metadata = ws+'amplicon_metadata.txt'\n",
    "output = ws+'alpha-rarefaction.qzv'\n",
    "bash(string%(table, tree, metadata, output),'alpha_qiime','short')"
   ]
  },
  {
   "cell_type": "markdown",
   "id": "d948431f-33eb-4c5c-8867-a605358cb631",
   "metadata": {
    "tags": []
   },
   "source": [
    "# Classifier"
   ]
  },
  {
   "cell_type": "code",
   "execution_count": null,
   "id": "e74a0709-403f-43b6-bdc2-a3a8cd2e58c3",
   "metadata": {},
   "outputs": [],
   "source": [
    "#donwload database\n",
    "string = '''\n",
    "#PBS -l nodes=1:ppn=10\n",
    "#PBS -l walltime=08:00:00\n",
    "#PBS -l mem=10gb\n",
    "#PBS -S /bin/bash\n",
    "\n",
    "source /beegfs/work/workspace/ws/user-conda-0/conda/etc/profile.d/conda.sh\n",
    "conda activate qiime2-2022.8\n",
    "\n",
    "qiime rescript get-silva-data \\\n",
    "  --p-version '138.1' \\\n",
    "  --p-target 'SSURef_NR99' \\\n",
    "  --p-include-species-labels \\\n",
    "  --o-silva-sequences %s \\\n",
    "  --o-silva-taxonomy %s\n",
    "'''\n",
    "!mkdir classifier\n",
    "out_seq = ws+'classifier/silva-138_1-ssu-nr99-seqs.qza'\n",
    "out_tax = ws+'classifier/silva-138_1-ssu-nr99-tax.qza'\n",
    "bash(string%(out_seq, out_tax),'classiifer_qiime','short')"
   ]
  },
  {
   "cell_type": "code",
   "execution_count": null,
   "id": "6ae6c06b-3a3d-4328-855f-b06c90079015",
   "metadata": {},
   "outputs": [],
   "source": [
    "# clean seqs\n",
    "string = '''\n",
    "#PBS -l nodes=1:ppn=14\n",
    "#PBS -l walltime=08:00:00\n",
    "#PBS -l mem=64gb\n",
    "#PBS -S /bin/bash\n",
    "\n",
    "source /beegfs/work/workspace/ws/user-conda-0/conda/etc/profile.d/conda.sh\n",
    "conda activate qiime2-2022.8\n",
    "\n",
    "qiime rescript cull-seqs \\\n",
    "  --i-sequences %s \\\n",
    "  --o-clean-sequences %s\n",
    "'''\n",
    "\n",
    "in_seq = ws+'classifier/silva-138_1-ssu-nr99-seqs.qza'\n",
    "out_clean = ws+'classifier/silva-138_1-ssu-nr99-seqs-cleaned.qza'\n",
    "bash(string%(in_seq, out_clean),'classiifer_clean','short')"
   ]
  },
  {
   "cell_type": "code",
   "execution_count": null,
   "id": "7d21aabc-960a-457b-afd9-a2668388617e",
   "metadata": {},
   "outputs": [],
   "source": [
    "# filter seqs by size\n",
    "string = '''\n",
    "#PBS -l nodes=1:ppn=14\n",
    "#PBS -l walltime=08:00:00\n",
    "#PBS -l mem=64gb\n",
    "#PBS -S /bin/bash\n",
    "\n",
    "source /beegfs/work/workspace/ws/user-conda-0/conda/etc/profile.d/conda.sh\n",
    "conda activate qiime2-2022.8\n",
    "\n",
    "qiime rescript filter-seqs-length-by-taxon \\\n",
    "  --i-sequences %s \\\n",
    "  --i-taxonomy %s \\\n",
    "  --p-labels Archaea Bacteria Eukaryota \\\n",
    "  --p-min-lens 900 1200 1400 \\\n",
    "  --o-filtered-seqs %s \\\n",
    "  --o-discarded-seqs %s\n",
    "'''\n",
    "\n",
    "in_seq = ws+'classifier/silva-138_1-ssu-nr99-seqs-cleaned.qza'\n",
    "taxonomy = ws+'classifier/silva-138_1-ssu-nr99-tax.qza'\n",
    "out_filtered = ws+'classifier/silva-138_1-ssu-nr99-seqs-filt.qza'\n",
    "out_dicarded = ws+'classifier/silva-138_1-ssu-nr99-seqs-discard.qza'\n",
    "bash(string%(in_seq, taxonomy, out_filtered, out_dicarded),'classiifer_filter','short')"
   ]
  },
  {
   "cell_type": "code",
   "execution_count": null,
   "id": "38d86bc8-7765-4087-9b9d-88f02542aab4",
   "metadata": {},
   "outputs": [],
   "source": [
    "# dereplicate seqs\n",
    "string = '''\n",
    "#PBS -l nodes=1:ppn=14\n",
    "#PBS -l walltime=08:00:00\n",
    "#PBS -l mem=64gb\n",
    "#PBS -S /bin/bash\n",
    "\n",
    "source /beegfs/work/workspace/ws/user-conda-0/conda/etc/profile.d/conda.sh\n",
    "conda activate qiime2-2022.8\n",
    "\n",
    "qiime rescript dereplicate \\\n",
    "  --i-sequences %s \\\n",
    "  --i-taxa %s \\\n",
    "  --p-rank-handles 'silva' \\\n",
    "  --p-mode 'uniq' \\\n",
    "  --o-dereplicated-sequences %s \\\n",
    "  --o-dereplicated-taxa %s\n",
    "'''\n",
    "in_filtered = ws+'classifier/silva-138_1-ssu-nr99-seqs-filt.qza'\n",
    "taxonomy = ws+'classifier/silva-138_1-ssu-nr99-tax.qza'\n",
    "out_drep = ws+'classifier/silva-138_1-ssu-nr99-seqs-derep-uniq.qza'\n",
    "drep_tax = ws+'classifier/silva-138_1-ssu-nr99-tax-derep-uniq.qza'\n",
    "bash(string%(in_filtered, taxonomy, out_drep, drep_tax),'classiifer_drep','short')"
   ]
  },
  {
   "cell_type": "code",
   "execution_count": null,
   "id": "305e33d9-5bc9-4018-adee-e479f01cee46",
   "metadata": {},
   "outputs": [],
   "source": [
    "# select V1-V2 region from seqs\n",
    "string = '''\n",
    "#PBS -l nodes=1:ppn=14\n",
    "#PBS -l walltime=08:00:00\n",
    "#PBS -l mem=64gb\n",
    "#PBS -S /bin/bash\n",
    "\n",
    "source /beegfs/work/workspace/ws/user-conda-0/conda/etc/profile.d/conda.sh\n",
    "conda activate qiime2-2022.8\n",
    "\n",
    "qiime feature-classifier extract-reads \\\n",
    "  --i-sequences %s \\\n",
    "  --p-f-primer CAAGRGTTHGATYMTGGCTCAG \\\n",
    "  --p-r-primer TGCTGCCTCCCGTAGGAGT \\\n",
    "  --p-n-jobs 14 \\\n",
    "  --p-read-orientation 'forward' \\\n",
    "  --o-reads %s\n",
    "'''\n",
    "\n",
    "in_seqs = ws+'classifier/silva-138_1-ssu-nr99-seqs-derep-uniq.qza'\n",
    "out_v1v2 = ws+'classifier/silva-138_1-ssu-nr99-seqs-V1-V2.qza'\n",
    "bash(string%(in_seqs, out_v1v2),'classiifer_v1v2','short')"
   ]
  },
  {
   "cell_type": "code",
   "execution_count": null,
   "id": "5887e1d5-b7e8-4837-90e2-8619f029e4b1",
   "metadata": {},
   "outputs": [],
   "source": [
    "# dereplicate V1-V2 region seqs\n",
    "string = '''\n",
    "#PBS -l nodes=1:ppn=14\n",
    "#PBS -l walltime=08:00:00\n",
    "#PBS -l mem=64gb\n",
    "#PBS -S /bin/bash\n",
    "\n",
    "source /beegfs/work/workspace/ws/user-conda-0/conda/etc/profile.d/conda.sh\n",
    "conda activate qiime2-2022.8\n",
    "\n",
    "qiime rescript dereplicate \\\n",
    "  --i-sequences %s  \\\n",
    "  --i-taxa %s \\\n",
    "  --p-rank-handles 'silva' \\\n",
    "  --p-mode 'uniq' \\\n",
    "  --o-dereplicated-sequences %s \\\n",
    "  --o-dereplicated-taxa %s  \n",
    "'''\n",
    "\n",
    "in_seqs = ws+'classifier/silva-138_1-ssu-nr99-seqs-V1-V2.qza'\n",
    "drep_tax = ws+'classifier/silva-138_1-ssu-nr99-tax-derep-uniq.qza'\n",
    "out_drep = ws+'classifier/silva-138_1-ssu-nr99-seqs-V1-V2-uniq.qza'\n",
    "out_drep_tax = ws+'classifier/silva-138_1-ssu-nr99-tax-V1-V2-derep-uniq.qza'\n",
    "bash(string%(in_seqs, drep_tax, out_drep, out_drep_tax),'classiifer_v1v2_drep','short')"
   ]
  },
  {
   "cell_type": "code",
   "execution_count": null,
   "id": "793714ad-e79d-4ec8-bf73-3d25218218f9",
   "metadata": {},
   "outputs": [],
   "source": [
    "# Fit the classifier\n",
    "string = '''\n",
    "#PBS -l nodes=1:ppn=14\n",
    "#PBS -l walltime=08:00:00\n",
    "#PBS -l mem=64gb\n",
    "#PBS -S /bin/bash\n",
    "\n",
    "source /beegfs/work/workspace/ws/user-conda-0/conda/etc/profile.d/conda.sh\n",
    "conda activate qiime2-2022.8\n",
    "\n",
    "qiime feature-classifier fit-classifier-naive-bayes \\\n",
    "  --i-reference-reads %s \\\n",
    "  --i-reference-taxonomy %s \\\n",
    "  --o-classifier %s\n",
    "'''\n",
    "in_seqs = ws+'classifier/silva-138_1-ssu-nr99-seqs-V1-V2-uniq.qza'\n",
    "in_tax = ws+'classifier/silva-138_1-ssu-nr99-tax-V1-V2-derep-uniq.qza'\n",
    "out_seqs = ws+'classifier/V1-V2-ssu-nr99-classifier.qza'\n",
    "bash(string%(in_seqs, in_tax, out_seqs),'classiifer_fitting','short')"
   ]
  },
  {
   "cell_type": "markdown",
   "id": "7acb45e5-0ebc-455c-8c68-fa36edb29ac3",
   "metadata": {},
   "source": [
    "# Classify sequences"
   ]
  },
  {
   "cell_type": "code",
   "execution_count": null,
   "id": "8b4d1116-f12f-4e0f-ae3e-e78e1344c10c",
   "metadata": {},
   "outputs": [],
   "source": [
    "string = '''\n",
    "#PBS -l nodes=1:ppn=14\n",
    "#PBS -l walltime=08:00:00\n",
    "#PBS -l mem=64gb\n",
    "#PBS -S /bin/bash\n",
    "\n",
    "source /beegfs/work/workspace/ws/user-conda-0/conda/etc/profile.d/conda.sh\n",
    "conda activate qiime2-2022.8\n",
    "\n",
    "qiime feature-classifier classify-sklearn \\\n",
    "  --i-classifier %s \\\n",
    "  --i-reads %s \\\n",
    "  --o-classification %s\n",
    "  \n",
    "qiime metadata tabulate \\\n",
    "  --m-input-file %s \\\n",
    "  --o-visualization %s\n",
    "'''\n",
    "\n",
    "!mkdir taxonomy\n",
    "classifier = ws+'classifier/V1-V2-ssu-nr99-classifier.qza'\n",
    "rep_seqs = ws+'filtered_50_data/rep-seqs-50_dada2.qza'\n",
    "out_tax = ws+'taxonomy/taxonomy.qza'\n",
    "out_tax_visual= ws+'taxonomy/taxonomy.qzv'\n",
    "bash(string%(classifier, rep_seqs, out_tax, out_tax, out_tax_visual),'tax_qiime','short')"
   ]
  },
  {
   "cell_type": "markdown",
   "id": "872b1c62-3a8d-4c43-9137-d9d590643f39",
   "metadata": {},
   "source": [
    "# Barplots qiime"
   ]
  },
  {
   "cell_type": "code",
   "execution_count": null,
   "id": "d3c7db3c-258b-42c3-96fd-eb29610eb0b6",
   "metadata": {},
   "outputs": [],
   "source": [
    "string = '''\n",
    "#PBS -l nodes=1:ppn=14\n",
    "#PBS -l walltime=08:00:00\n",
    "#PBS -l mem=64gb\n",
    "#PBS -S /bin/bash\n",
    "\n",
    "source /beegfs/work/workspace/ws/user-conda-0/conda/etc/profile.d/conda.sh\n",
    "conda activate qiime2-2022.8\n",
    "\n",
    "qiime taxa barplot \\\n",
    "  --i-table %s \\\n",
    "  --i-taxonomy %s \\\n",
    "  --m-metadata-file %s \\\n",
    "  --o-visualization %s\n",
    "'''\n",
    "\n",
    "in_table = ws+'core_metrics/rarefied_table.qza'\n",
    "taxonomy = ws+'taxonomy/taxonomy.qza'\n",
    "metadata = ws+'amplicon_metadata.txt'\n",
    "barplots = ws+'taxa-bar-plots.qzv'\n",
    "bash(string%(in_table, taxonomy, metadata, barplots),'barplot_qiime','short')"
   ]
  },
  {
   "cell_type": "markdown",
   "id": "d15c66de-39a0-4154-a9a7-d0f1b359e127",
   "metadata": {},
   "source": [
    "# Export files"
   ]
  },
  {
   "cell_type": "code",
   "execution_count": null,
   "id": "b9cbc872-b31d-434d-98e8-dc6d759160db",
   "metadata": {},
   "outputs": [],
   "source": [
    "string = '''\n",
    "#PBS -l nodes=1:ppn=1\n",
    "#PBS -l walltime=00:19:00\n",
    "#PBS -l mem=1gb\n",
    "#PBS -S /bin/bash\n",
    "\n",
    "source /beegfs/work/workspace/ws/user-conda-0/conda/etc/profile.d/conda.sh\n",
    "conda activate qiime2-2022.8\n",
    "\n",
    "qiime tools export \\\n",
    "  --input-path %s \\\n",
    "  --output-path %s\n",
    "'''\n",
    "!mkdir exports\n",
    "in_file = ws+'core_metrics/rarefied_table.qza'\n",
    "out_file = ws+'exports/rarefied_table'\n",
    "bash(string%(in_file, out_file),'export_qiime','tiny')"
   ]
  },
  {
   "cell_type": "code",
   "execution_count": null,
   "id": "4b10fcdd-f06d-47d8-b67f-b8d3b9f33eb1",
   "metadata": {},
   "outputs": [],
   "source": [
    "# convert the BIOM table to a tsv \n",
    "biom convert -i feature-table.biom -o feature-table.tsv --to-tsv"
   ]
  },
  {
   "cell_type": "markdown",
   "id": "166ce528-c902-4531-b737-49e4a37d1300",
   "metadata": {},
   "source": [
    "# Adonis test"
   ]
  },
  {
   "cell_type": "code",
   "execution_count": null,
   "id": "ea7948b4-62c0-4f2e-b1de-e54d164bd020",
   "metadata": {},
   "outputs": [],
   "source": [
    "string = '''\n",
    "#PBS -l nodes=1:ppn=1\n",
    "#PBS -l walltime=00:19:00\n",
    "#PBS -l mem=1gb\n",
    "#PBS -S /bin/bash\n",
    "\n",
    "source /beegfs/work/workspace/ws/user-conda-0/conda/etc/profile.d/conda.sh\n",
    "conda activate qiime2-2022.8\n",
    "\n",
    "qiime diversity beta-group-significance \\\n",
    "  --i-distance-matrix %s \\\n",
    "  --m-metadata-file %s \\\n",
    "  --m-metadata-column day \\\n",
    "  --p-pairwise \\\n",
    "  --output-dir %s\n",
    "'''\n",
    "!mkdir statistical_test\n",
    "matrix = ws+'core_metrics/unweighted_unifrac_distance_matrix.qza'\n",
    "metadata = ws+'amplicon_metadata.txt'\n",
    "out = ws+'statistical_test/adonis'\n",
    "bash(string%(matrix, metadata, out),'adonis_qiime','tiny')"
   ]
  },
  {
   "cell_type": "markdown",
   "id": "4ecb121a-848f-4191-8496-490c634d5518",
   "metadata": {},
   "source": [
    "# Alpha-group-significance"
   ]
  },
  {
   "cell_type": "code",
   "execution_count": null,
   "id": "ecddc73e-a019-4eb1-b754-4672c6b9d2d1",
   "metadata": {},
   "outputs": [],
   "source": [
    "string = '''\n",
    "#PBS -l nodes=1:ppn=1\n",
    "#PBS -l walltime=00:19:00\n",
    "#PBS -l mem=1gb\n",
    "#PBS -S /bin/bash\n",
    "\n",
    "source /beegfs/work/workspace/ws/user-conda-0/conda/etc/profile.d/conda.sh\n",
    "conda activate qiime2-2022.8\n",
    "\n",
    "qiime diversity alpha-group-significance \\\n",
    "  --i-alpha-diversity %s \\\n",
    "  --m-metadata-file %s \\\n",
    "  --o-visualization %s \n",
    "\n",
    "qiime diversity alpha-group-significance \\\n",
    "  --i-alpha-diversity %s \\\n",
    "  --m-metadata-file %s \\\n",
    "  --o-visualization %s\n",
    "'''\n",
    "\n",
    "in_features = ws+'core_metrics/observed_features_vector.qza'\n",
    "metadata = ws+'amplicon_metadata.txt'\n",
    "out_features = ws+'statistical_test/features-group-significance.qzv'\n",
    "\n",
    "in_shannon = ws+'core_metrics/shannon_vector.qza'\n",
    "out_shannon = ws+'statistical_test/shannons-group-significance.qzv'\n",
    "bash(string%(in_features, metadata, out_features,in_shannon, metadata,out_shannon),'alpha_qiime','tiny')"
   ]
  }
 ],
 "metadata": {
  "kernelspec": {
   "display_name": "Python 3 (ipykernel)",
   "language": "python",
   "name": "python3"
  },
  "language_info": {
   "codemirror_mode": {
    "name": "ipython",
    "version": 3
   },
   "file_extension": ".py",
   "mimetype": "text/x-python",
   "name": "python",
   "nbconvert_exporter": "python",
   "pygments_lexer": "ipython3",
   "version": "3.8.11"
  },
  "toc-autonumbering": true
 },
 "nbformat": 4,
 "nbformat_minor": 5
}
