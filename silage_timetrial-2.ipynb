{
 "cells": [
  {
   "cell_type": "code",
   "execution_count": 8,
   "id": "0f61f95f-b61e-477f-a949-5320ceae16b7",
   "metadata": {},
   "outputs": [
    {
     "name": "stdout",
     "output_type": "stream",
     "text": [
      "\n",
      "mgmt02: \n",
      "                                                                                  Req'd       Req'd       Elap\n",
      "Job ID                  Username    Queue    Jobname          SessID  NDS   TSK   Memory      Time    S   Time\n",
      "----------------------- ----------- -------- ---------------- ------ ----- ------ --------- --------- - ---------\n",
      "10717906                ho_kezau83  smp      dram.sh             --      1     20     200gb  24:00:00 C       -- \n"
     ]
    }
   ],
   "source": [
    "!qstat -u ho_kezau83"
   ]
  },
  {
   "cell_type": "code",
   "execution_count": 7,
   "id": "a5c41bb0-c1ae-4ce0-8d92-9596d25490aa",
   "metadata": {},
   "outputs": [],
   "source": [
    "!qdel 10717906"
   ]
  },
  {
   "cell_type": "markdown",
   "id": "066df9a0-b40e-4f22-b46e-cdfaa713f476",
   "metadata": {},
   "source": [
    "# Bash function"
   ]
  },
  {
   "cell_type": "code",
   "execution_count": 1,
   "id": "2e784125-14e3-498d-8182-0d052613365c",
   "metadata": {},
   "outputs": [
    {
     "name": "stdout",
     "output_type": "stream",
     "text": [
      "rm: cannot remove 'Raw_data/.ipynb_checkpoints': No such file or directory\n",
      "Raw reads: ['C15A', 'C15B', 'C15C', 'C2A', 'C2B', 'C2C', 'C40A', 'C40B', 'C40C', 'C4A', 'C4B', 'C4C', 'C8A', 'C8B', 'C8C', 'T0A', 'T0B', 'T0C']\n",
      "Processed: ['C15', 'C2', 'C4', 'C40', 'C8', 'T0', 'ipynb']\n",
      "Cleaning is missing for (if empty all good!):  ['C15A', 'C15B', 'C15C', 'C2A', 'C2B', 'C2C', 'C40A', 'C40B', 'C40C', 'C4A', 'C4B', 'C4C', 'C8A', 'C8B', 'C8C', 'T0A', 'T0B', 'T0C']\n"
     ]
    }
   ],
   "source": [
    "def bash(string,name,queue):\n",
    "  script = \"%s.sh\"%name\n",
    "  with open(script, \"w\") as text_file:\n",
    "    text_file.write(string)\n",
    "  !chmod +x $script\n",
    "  !qsub -q $queue $script\n",
    "  #!rm $script\n",
    "  \n",
    "ws = '/beegfs/work/workspace/ws/ho_kezau83-silage_timetrial-0'\n",
    "\n",
    "#Create list of file indexes to access it later\n",
    "import os\n",
    "!rm -r Raw_data/.ipynb_checkpoints\n",
    "reads = sorted(list(set([f.split('_')[0].split('.')[-1] for f in os.listdir('Raw_data')])))\n",
    "done = sorted(list(set([f.split('_')[0].split('.')[-1] for f in os.listdir('co_assembly/NoAdapt_reads')])))\n",
    "print('Raw reads:', reads)\n",
    "print('Processed:', done)\n",
    "print('Cleaning is missing for (if empty all good!): ', [r for r in reads if r not in done])"
   ]
  },
  {
   "cell_type": "markdown",
   "id": "eefe61e3-5d1e-4438-b450-66516bf26042",
   "metadata": {},
   "source": [
    "# Clean sequences"
   ]
  },
  {
   "cell_type": "code",
   "execution_count": null,
   "id": "fbf4a8cf-52cd-4ba0-9dfa-ae1ea93054ea",
   "metadata": {},
   "outputs": [],
   "source": [
    "# remove sequencing artifacts, adapters, merge reads and QC\n",
    "string = '''\n",
    "#PBS -l nodes=1:ppn=12\n",
    "#PBS -l walltime=02:00:00\n",
    "#PBS -l mem=60gb\n",
    "#PBS -S /bin/bash\n",
    "module load bio/bbtools/38.26 \n",
    "bbduk.sh in1=%s in2=%s out1=%s out2=%s outm=%s k=31 ftm=5 ref=%s t=12\n",
    "bbduk.sh in1=%s in2=%s out1=%s out2=%s ref=%s ktrim=r k=23 mink=11 hdist=1 tbo=t qtrim=r trimq=20 t=12\n",
    "'''\n",
    "nA = ws+'/co_assembly/NoArt_reads'\n",
    "na = ws+'/co_assembly/NoAdapt_reads'\n",
    "me = ws+'/co_assembly/Merged_reads'\n",
    "QC = ws+'/co_assembly/QCreads'\n",
    "rr = ws+'/merge_data'\n",
    "#!mkdir $nA $na $me $QC\n",
    "import os\n",
    "for read in reads:\n",
    "  if read in done: continue\n",
    "  in1  = rr+'/%s_1.fq.gz'           % read\n",
    "  in2  = rr+'/%s_2.fq.gz'           % read\n",
    "  om   = nA+'/%s_matched.fq.gz'     % read\n",
    "  o1   = nA+'/%s_unmatched_1.fq.gz' % read\n",
    "  o2   = nA+'/%s_unmatched_2.fq.gz' % read\n",
    "  o3   = na+'/%s_trimmed_1.fq.gz'   % read\n",
    "  o4   = na+'/%s_trimmed_2.fq.gz'   % read\n",
    "  r1  = '/beegfs/work/workspace/ws/ho_kezau83-conda-0/bbtools/sequencing_artifacts.fa.gz'\n",
    "  r2  = '/beegfs/work/workspace/ws/ho_kezau83-conda-0/bbtools/adapters.fa'\n",
    "  #if os.path.exists(o4): continue\n",
    "  bash(string%(in1,in2,o1,o2,om,r1,o1,o2,o3,o4,r2),\n",
    "       'BBTools_%s'%read,'short')"
   ]
  },
  {
   "cell_type": "markdown",
   "id": "7a8b6450-6445-4269-a97a-abbabd7ef6f8",
   "metadata": {},
   "source": [
    "# Taxonomy on read with Kaiju (All)"
   ]
  },
  {
   "cell_type": "code",
   "execution_count": null,
   "id": "e0cb73fa-fbe0-40da-9e44-2f9c6d19b058",
   "metadata": {},
   "outputs": [],
   "source": [
    "string = '''\n",
    "#PBS -l nodes=1:ppn=14\n",
    "#PBS -l walltime=12:00:00\n",
    "#PBS -l mem=64gb\n",
    "#PBS -S /bin/bash\n",
    "source /beegfs/work/workspace/ws/ho_kezau83-conda-0/conda/etc/profile.d/conda.sh\n",
    "conda activate kaiju\n",
    "kaiju -z 14 -t %s -f %s -i %s -j %s -o %s\n",
    "conda deactivate\n",
    "'''\n",
    "conda_path = '/beegfs/work/workspace/ws/ho_kezau83-conda-0'\n",
    "nodes = conda_path+'/kaijudb/nodes.dmp'\n",
    "db = conda_path+'/kaijudb/kaiju_db_refseq.fmi'\n",
    "\n",
    "!mkdir kaiju_tax\n",
    "\n",
    "for read in reads:\n",
    "    file_1 = ws+'/NoAdapt_reads/%s_trimmed_1.fastq' % read\n",
    "    file_2 = ws+'/NoAdapt_reads/%s_trimmed_2.fastq' % read\n",
    "    out = ws+'/kaiju_tax/%s.out' % read\n",
    "    if os.path.exists(out): continue\n",
    "    bash(string%(nodes, db, file_1, file_2, out),'%s_kaiju'%read,'short')"
   ]
  },
  {
   "cell_type": "code",
   "execution_count": null,
   "id": "5a221fc9-22e6-4cc6-b604-dacedb25ce87",
   "metadata": {},
   "outputs": [],
   "source": [
    "# Merge samples and add taxa names\n",
    "string = '''\n",
    "#PBS -l nodes=1:ppn=14\n",
    "#PBS -l walltime=12:00:00\n",
    "#PBS -l mem=64gb\n",
    "#PBS -S /bin/bash\n",
    "source /beegfs/work/workspace/ws/ho_kezau83-conda-0/conda/etc/profile.d/conda.sh\n",
    "conda activate kaiju\n",
    "cd /beegfs/work/workspace/ws/ho_kezau83-silage_timetrial-0/kaiju_tax/\n",
    "kaiju2table -l superkingdom,phylum,class,order,family,genus,species -t %s -n %s -r species -c 10 -o %s T0A.out T0B.out T0C.out C2A.out C2B.out C2C.out C4A.out C4B.out C4C.out C8A.out C8B.out C8C.out C15A.out C15B.out C15C.out C40A.out C40B.out C40C.out\n",
    "'''\n",
    "conda_path = '/beegfs/work/workspace/ws/ho_kezau83-conda-0'\n",
    "nodes = conda_path+'/kaijudb/nodes.dmp'\n",
    "names = conda_path+'/kaijudb/names.dmp'\n",
    "out = ws+'/kaiju_tax/merge_samples.tsv'\n",
    "\n",
    "bash(string%(nodes, names, out),'kaiju','short')"
   ]
  },
  {
   "cell_type": "markdown",
   "id": "272e9fab-ccbd-48f7-9a32-0466f1fd6f8a",
   "metadata": {},
   "source": [
    "# Taxonomy on read with Kaiju (Viruses)"
   ]
  },
  {
   "cell_type": "code",
   "execution_count": null,
   "id": "18a4d730-7829-4f6c-9eb4-19c508476a00",
   "metadata": {},
   "outputs": [],
   "source": [
    "string = '''\n",
    "#PBS -l nodes=1:ppn=14\n",
    "#PBS -l walltime=12:00:00\n",
    "#PBS -l mem=64gb\n",
    "#PBS -S /bin/bash\n",
    "source /beegfs/work/workspace/ws/ho_kezau83-conda-0/conda/etc/profile.d/conda.sh\n",
    "conda activate kaiju\n",
    "kaiju -z 14 -t %s -f %s -i %s -j %s -o %s\n",
    "conda deactivate\n",
    "'''\n",
    "conda_path = '/beegfs/work/workspace/ws/ho_kezau83-conda-0'\n",
    "nodes = conda_path+'/kaijudb_viruses/nodes.dmp'\n",
    "db = conda_path+'/kaijudb_viruses/kaiju_db_viruses.fmi'\n",
    "\n",
    "!mkdir kaiju_tax_viruses\n",
    "\n",
    "for read in reads:\n",
    "    file_1 = ws+'/NoAdapt_reads/%s_trimmed_1.fq' % read\n",
    "    file_2 = ws+'/NoAdapt_reads/%s_trimmed_2.fq' % read\n",
    "    out = ws+'/kaiju_tax_viruses/%s.out' % read\n",
    "    if os.path.exists(out): continue\n",
    "    bash(string%(nodes, db, file_1, file_2, out),'%s_kaiju'%read,'short')"
   ]
  },
  {
   "cell_type": "code",
   "execution_count": null,
   "id": "d4c1a36c-8264-4d63-8107-69e091d1ddb1",
   "metadata": {},
   "outputs": [],
   "source": [
    "# Merge samples and add virus names\n",
    "string = '''\n",
    "#PBS -l nodes=1:ppn=14\n",
    "#PBS -l walltime=12:00:00\n",
    "#PBS -l mem=64gb\n",
    "#PBS -S /bin/bash\n",
    "source /beegfs/work/workspace/ws/ho_kezau83-conda-0/conda/etc/profile.d/conda.sh\n",
    "conda activate kaiju\n",
    "cd /beegfs/work/workspace/ws/ho_kezau83-silage_timetrial-0/kaiju_tax_viruses/\n",
    "kaiju2table -e -l superkingdom,phylum,class,order,family,genus,species -t %s -n %s -r species -c 10 -o %s C2A.out C40A.out C40C.out C8C.out T0C.out\n",
    "'''\n",
    "conda_path = '/beegfs/work/workspace/ws/ho_kezau83-conda-0'\n",
    "nodes = conda_path+'/kaijudb_viruses/nodes.dmp'\n",
    "names = conda_path+'/kaijudb_viruses/names.dmp'\n",
    "out = ws+'/kaiju_tax_viruses/merge_samples_virus.tsv'\n",
    "\n",
    "bash(string%(nodes, names, out),'kaiju','short')"
   ]
  },
  {
   "cell_type": "code",
   "execution_count": null,
   "id": "2abd5726-d177-4659-9d29-3bbdab812619",
   "metadata": {},
   "outputs": [],
   "source": [
    "# Run KrakenUniq\n",
    "string = '''\n",
    "#PBS -l nodes=1:ppn=14\n",
    "#PBS -l walltime=12:00:00\n",
    "#PBS -l mem=64gb\n",
    "#PBS -S /bin/bash\n",
    "\n",
    "source /beegfs/work/workspace/ws/ho_kezau83-conda-0/conda/etc/profile.d/conda.sh\n",
    "conda activate krakenuniq\n",
    "\n",
    "cd /beegfs/work/workspace/ws/ho_kezau83-silage_timetrial-0/kraken\n",
    "\n",
    "krakenuniq --preload-size 60G --db %s --threads 14 --report-file REPORTFILE.tsv --paired %s %s > READCLASSIFICATION.tsv\n",
    "\n",
    "'''\n",
    "\n",
    "kraken_db = '/beegfs/work/workspace/ws/ho_kezau83-conda-0/kraken_db'\n",
    "read_1 = ws+'/NoAdapt_reads/C40A_trimmed_1.fastq'\n",
    "read_2 = ws+'/NoAdapt_reads/C40A_trimmed_2.fastq'\n",
    "\n",
    "bash(string%(kraken_db, read_1, read_2),'kraken','short')"
   ]
  },
  {
   "cell_type": "code",
   "execution_count": null,
   "id": "bbd5aa45-351a-41fc-a722-d4791b016331",
   "metadata": {},
   "outputs": [],
   "source": [
    "# Run KrakenUniq\n",
    "string = '''\n",
    "#PBS -l nodes=1:ppn=14\n",
    "#PBS -l walltime=12:00:00\n",
    "#PBS -l mem=64gb\n",
    "#PBS -S /bin/bash\n",
    "\n",
    "source /beegfs/work/workspace/ws/ho_kezau83-conda-0/conda/etc/profile.d/conda.sh\n",
    "conda activate krakenuniq\n",
    "\n",
    "cd /beegfs/work/workspace/ws/ho_kezau83-silage_timetrial-0/kraken\n",
    "\n",
    "krakenuniq-report --db %s %s > taxonomy.tsv\n",
    "'''\n",
    "\n",
    "kraken_db = '/beegfs/work/workspace/ws/ho_kezau83-conda-0/kraken_db'\n",
    "kraken_file = ws+'/kraken/READCLASSIFICATION.tsv'\n",
    "\n",
    "bash(string%(kraken_db, kraken_file ),'kraken','short')"
   ]
  },
  {
   "cell_type": "markdown",
   "id": "de703fff-6430-43be-9f91-428e0078ecc4",
   "metadata": {},
   "source": [
    "# Assemble contigs"
   ]
  },
  {
   "cell_type": "code",
   "execution_count": null,
   "id": "59605d96-79fc-4189-a93a-b05700322c58",
   "metadata": {},
   "outputs": [],
   "source": [
    "# Assembly with metaspades and Quast\n",
    "string = '''\n",
    "#PBS -l nodes=1:ppn=20\n",
    "#PBS -l walltime=24:00:00\n",
    "#PBS -l mem=200gb\n",
    "#PBS -S /bin/bash\n",
    "module load bio/spades/3.15.0\n",
    "spades.py -k 21,33,55,77,99,127 -1 %s -2 %s --meta -o %s -m 200 -t 20 \n",
    "'''\n",
    "na = ws+'/co_assembly/NoAdapt_reads'\n",
    "Sp = ws+'/co_assembly/Spades_assembly'\n",
    "#!mkdir $Sp\n",
    "for read in reads:\n",
    "  #if read in done: continue\n",
    "  unm1 = na+'/%s_trimmed_1.fq.gz'% read\n",
    "  unm2 = na+'/%s_trimmed_2.fq.gz'% read\n",
    "  out  = Sp+'/'+read\n",
    "  #if os.path.exists(out): continue\n",
    "  bash(string%(unm1,unm2,out),'%s_Spades'%read,'smp')"
   ]
  },
  {
   "cell_type": "code",
   "execution_count": null,
   "id": "6c43a7c1-9ef8-4829-a176-99ca350911a7",
   "metadata": {},
   "outputs": [],
   "source": [
    "# move contigs to the new directory with a report\n",
    "!mkdir contigs\n",
    "for read in reads:\n",
    "  oldass = 'co_assembly/Spades_assembly/%s/contigs.fasta'%read\n",
    "  newass = 'co_assembly/contigs/%s_contigs.fasta'%read\n",
    "  !cp $oldass $newass"
   ]
  },
  {
   "cell_type": "code",
   "execution_count": null,
   "id": "c3c34b01-33f0-4ba8-9fee-0218335c04fd",
   "metadata": {},
   "outputs": [],
   "source": [
    "# clean Spades directory to save some space\n",
    "keep = ['contigs.fasta','contigs.paths','scaffolds.fasta','scaffolds.paths','spades.log']\n",
    "for read in reads:\n",
    "  for file in os.listdir('Spades_assembly/%s'%read):\n",
    "    if file not in keep:\n",
    "      path = 'Spades_assembly/%s/%s'%(read,file)\n",
    "      !rm -rf $path"
   ]
  },
  {
   "cell_type": "markdown",
   "id": "ed5ce226-8873-4bce-86f1-4e1188f622d8",
   "metadata": {},
   "source": [
    "# Filter contigs"
   ]
  },
  {
   "cell_type": "code",
   "execution_count": null,
   "id": "18af40ac-3e65-4d3c-92fc-63c28396f979",
   "metadata": {},
   "outputs": [],
   "source": [
    "reads = ['T0']"
   ]
  },
  {
   "cell_type": "code",
   "execution_count": null,
   "id": "1d25b9f4-301a-411e-8440-f0bd910bf89f",
   "metadata": {},
   "outputs": [],
   "source": [
    "# Filter the contigs base on their size\n",
    "string = '''\n",
    "#PBS -l nodes=1:ppn=2\n",
    "#PBS -l walltime=1:00:00\n",
    "#PBS -l mem=30gb\n",
    "#PBS -q short\n",
    "#PBS -S /bin/bash\n",
    "module load bio/bbtools/38.26\n",
    "bbduk.sh in=%s out=%s minlen=1000\n",
    "'''\n",
    "\n",
    "contigs = ws+'/co_assembly/contigs'\n",
    "contigs_filtered = ws+'/co_assembly/contigs_filtered'\n",
    "!mkdir $contigs_filtered\n",
    "for read in reads:\n",
    "  #if read in done: continue\n",
    "  cont = contigs+'/%s_contigs.fasta'% read\n",
    "  cont_filt = contigs_filtered+'/%s_contigs_filtered.fasta'% read\n",
    "  if os.path.exists(cont_filt): continue\n",
    "  bash(string%(cont,cont_filt),'%s_filter'%read,'short')"
   ]
  },
  {
   "cell_type": "code",
   "execution_count": null,
   "id": "bf8e519c-b5ec-4b91-98ba-b34099c49114",
   "metadata": {},
   "outputs": [],
   "source": [
    "# Keep the stats\n",
    "!mkdir Stats_filtering\n",
    "!mv *filter.sh.e* Stats_filtering/"
   ]
  },
  {
   "cell_type": "markdown",
   "id": "a888506e-b799-48fa-9955-6adf290ac9fc",
   "metadata": {},
   "source": [
    "# Initial binning"
   ]
  },
  {
   "cell_type": "code",
   "execution_count": null,
   "id": "cccc89ea-56b1-4de3-8d27-7e51e830762f",
   "metadata": {},
   "outputs": [],
   "source": [
    "string = '''\n",
    "#PBS -l nodes=1:ppn=20\n",
    "#PBS -l walltime=12:00:00\n",
    "#PBS -l mem=150gb\n",
    "#PBS -S /bin/bash\n",
    "source /beegfs/work/workspace/ws/ho_kezau83-conda-0/conda/etc/profile.d/conda.sh\n",
    "conda activate metawrap-env\n",
    "metawrap binning -o %s -t 20 -a %s --metabat2 --maxbin2 --concoct %s\n",
    "'''\n",
    "\n",
    "contigs_filtered = ws+'/co_assembly/contigs_filtered'\n",
    "out_bins = ws+'/co_assembly/initial_bin'\n",
    "clean_reads_path = ws+'/co_assembly/NoAdapt_reads'\n",
    "!mkdir $out_bins\n",
    "for read in reads:\n",
    "    out_folder = out_bins+'/%s_bins' % read\n",
    "    contigs = contigs_filtered+'/%s_contigs_filtered.fasta' % read\n",
    "    clean = clean_reads_path+'/%s_trimmed_*.fastq' % read\n",
    "    #if os.path.exists(out_folder): continue\n",
    "    bash(string%(out_folder,contigs,clean),'%s_binning'%read,'smp')"
   ]
  },
  {
   "cell_type": "code",
   "execution_count": null,
   "id": "5703cab3-da45-4220-b315-99779b1d7b1a",
   "metadata": {},
   "outputs": [],
   "source": [
    "#refine bins\n",
    "string = '''\n",
    "#PBS -l nodes=1:ppn=16\n",
    "#PBS -l walltime=24:00:00\n",
    "#PBS -l mem=80gb\n",
    "#PBS -S /bin/bash\n",
    "source /beegfs/work/workspace/ws/ho_kezau83-conda-0/conda/etc/profile.d/conda.sh\n",
    "conda activate metawrap-env\n",
    "metawrap bin_refinement -o %s -t 20 -A %s -B %s -C %s -c 70 -x 10\n",
    "'''\n",
    "\n",
    "bin_refinement = ws+'/bin_refinement'\n",
    "bins_path = ws+'/initial_bin'\n",
    "#!mkdir $bin_refinement\n",
    "for read in reads:\n",
    "    out_folder = bin_refinement+'/%s_bins_refined_test' % read\n",
    "    metabat = bins_path+'/%s_bins/metabat2_bins' % read\n",
    "    maxbin = bins_path+'/%s_bins/maxbin2_bins' % read\n",
    "    concoct = bins_path+'/%s_bins/semibin_bins/output_bins' % read\n",
    "    #if os.path.exists(out_folder): continue\n",
    "    bash(string%(out_folder,metabat,maxbin,concoct),'%s_refinement'%read,'short')"
   ]
  },
  {
   "cell_type": "code",
   "execution_count": null,
   "id": "23c291f6-1351-4793-b780-d43af6b031a3",
   "metadata": {},
   "outputs": [],
   "source": [
    "#move bins to a new folder\n",
    "!mkdir final_bins\n",
    "for read in reads:\n",
    "  oldass = 'bin_refinement/%s_bins_refined/metawrap_70_10_bins/*'%read\n",
    "  newass = 'final_bins/'\n",
    "  !cp $oldass $newass"
   ]
  },
  {
   "cell_type": "code",
   "execution_count": null,
   "id": "ddff70f3-2375-41fd-9544-3aa835350348",
   "metadata": {},
   "outputs": [],
   "source": [
    "#bin reassembly\n",
    "string = '''\n",
    "#PBS -l nodes=1:ppn=25\n",
    "#PBS -l walltime=48:00:00\n",
    "#PBS -l mem=250gb\n",
    "#PBS -S /bin/bash\n",
    "source /beegfs/work/workspace/ws/ho_kezau83-conda-0/conda/etc/profile.d/conda.sh\n",
    "conda activate metawrap-env\n",
    "metawrap reassemble_bins -o %s -1 %s -2 %s -t 25 -m 250 -c 70 -x 10 -b %s\n",
    "'''\n",
    "\n",
    "!mkdir $reassemble_bins\n",
    "out_folder = ws+'/reassemble_bins'\n",
    "read1 = ws+'/NoAdapt_reads/all_reads_1.fastq'\n",
    "read2 = ws+'/NoAdapt_reads/all_reads_2.fastq'\n",
    "bin_refinement = ws+'/final_bins/'\n",
    "#if os.path.exists(out_folder): continue\n",
    "bash(string%(out_folder,read1,read2,bin_refinement),'%s_reassembly'%read,'smp')\n"
   ]
  },
  {
   "cell_type": "code",
   "execution_count": null,
   "id": "5a0a2121-1295-4e5d-b9a3-39d3ceb98e49",
   "metadata": {},
   "outputs": [],
   "source": [
    "#mapping reads for SemiBin\n",
    "string = '''\n",
    "#PBS -l nodes=1:ppn=14\n",
    "#PBS -l walltime=12:00:00\n",
    "#PBS -l mem=64gb\n",
    "#PBS -S /bin/bash\n",
    "\n",
    "module load bio/bowtie2/2.4.1\n",
    "\n",
    "bowtie2-build -f %s %s\n",
    "bowtie2 -q --fr -x %s -1 %s -2 %s -S %s -p 64\n",
    "\n",
    "module load bio/samtools/1.9\n",
    "\n",
    "samtools view -h -b -S %s -o %s -@ 64\n",
    "samtools view -b -F 4 %s -o %s -@ 64\n",
    "samtools sort -m 1000000000 %s -o %s -@ 64\n",
    "samtools index %s\n",
    "'''\n",
    "!mkdir initial_bin/semibin\n",
    "for read in reads:\n",
    "    contig_1= ws+'/contigs_filtered/%s_contigs_filtered.fasta' %read\n",
    "    out1 = ws+'/initial_bin/semibin/%s_contigs_filtered.fasta' %read\n",
    "    read_1 =ws+'/NoAdapt_reads/%s_trimmed_1.fastq' %read\n",
    "    read_2 =ws+'/NoAdapt_reads/%s_trimmed_2.fastq' %read\n",
    "    out_sam =ws+'/initial_bin/semibin/%s.sam' %read\n",
    "    out_bam=ws+'/initial_bin/semibin/%s.bam' %read\n",
    "    mapped_bam=ws+'/initial_bin/semibin/%s.mapped.bam' %read\n",
    "    mapped_sorted= ws+'/initial_bin/semibin/%s.mapped.sorted.bam' %read\n",
    "\n",
    "    #if os.path.exists(out_folder): continue\n",
    "    bash(string%(contig_1, out1, out1, read_1, read_2, out_sam, out_sam, out_bam, out_bam, mapped_bam, mapped_bam, mapped_sorted,mapped_sorted),'%s_bowtie'%read,'short')\n",
    "\n"
   ]
  },
  {
   "cell_type": "code",
   "execution_count": null,
   "id": "d62714d9-6913-4315-9b6e-4402f21dc7ef",
   "metadata": {},
   "outputs": [],
   "source": [
    "#Bining with SemiBin. this job use GPUs\n",
    "string = '''\n",
    "#PBS -l nodes=1:ppn=16\n",
    "#PBS -l walltime=48:00:00\n",
    "#PBS -l mem=80gb\n",
    "#PBS -S /bin/bash\n",
    "\n",
    "source /beegfs/work/workspace/ws/ho_kezau83-conda-0/conda/etc/profile.d/conda.sh\n",
    "conda activate SemiBin\n",
    "\n",
    "SemiBin single_easy_bin -i %s -b %s -o %s -t 16 -r /beegfs/work/workspace/ws/ho_kezau83-conda-0/conda\n",
    "\n",
    "conda deactivate\n",
    "'''\n",
    "for read in reads:\n",
    "    contig= ws+'/contigs_filtered/%s_contigs_filtered.fasta' %read\n",
    "    bam_file=ws+'/initial_bin/semibin/%s.mapped.sorted.bam' %read\n",
    "    out_folder=ws+'/initial_bin/%s_bins/semibin_bins' %read\n",
    "    bash(string%(contig, bam_file,out_folder),'%s_semibin'%read,'short')\n"
   ]
  },
  {
   "cell_type": "markdown",
   "id": "4d9d292f-aefd-49eb-8dc5-867724a63273",
   "metadata": {},
   "source": [
    "# Bins QC"
   ]
  },
  {
   "cell_type": "code",
   "execution_count": null,
   "id": "31a25c20-56a7-46aa-9cb8-acb5799a60f2",
   "metadata": {},
   "outputs": [],
   "source": [
    "#check genomes QC, split genomes in 1000\n",
    "string = '''\n",
    "#PBS -l nodes=1:ppn=20\n",
    "#PBS -l walltime=72:00:00\n",
    "#PBS -l mem=200gb\n",
    "#PBS -S /bin/bash\n",
    "\n",
    "source /beegfs/work/workspace/ws/ho_kezau83-conda-0/conda/etc/profile.d/conda.sh\n",
    "conda activate checkm\n",
    "checkm lineage_wf -t 20 -x fa %s %s\n",
    "conda deactivate\n",
    "'''\n",
    "!mkdir checkM\n",
    "genomes_path = ws+'/final_bins'\n",
    "out_file = ws+'/checkM'\n",
    "bash(string%(genomes_path, out_file),'checkM','smp')"
   ]
  },
  {
   "cell_type": "markdown",
   "id": "45e61e75-72e1-4c7d-a04d-be806b0afddb",
   "metadata": {},
   "source": [
    "# Dereplicate Genomes"
   ]
  },
  {
   "cell_type": "code",
   "execution_count": null,
   "id": "bf22a737-461e-4f53-9220-744820bd2b63",
   "metadata": {},
   "outputs": [],
   "source": [
    "string = '''\n",
    "#PBS -l nodes=1:ppn=12\n",
    "#PBS -l walltime=4:00:00\n",
    "#PBS -l mem=64gb\n",
    "#PBS -S /bin/bash\n",
    "source /beegfs/work/workspace/ws/ho_kezau83-conda-0/conda/etc/profile.d/conda.sh\n",
    "conda activate drep\n",
    "dRep dereplicate -d -p 12 %s -g %s --genomeInfo %s -comp 70 -con 10\n",
    "'''\n",
    "!mkdir drep\n",
    "drep_out = ws+'/drep'\n",
    "genomes_path = ws+'/final_bins/*.fa'\n",
    "checkm = ws+'/checkM/bin_stats_ext_clean.csv'\n",
    "bash(string%(drep_out, genomes_path, checkm), 'drep', 'short')"
   ]
  },
  {
   "cell_type": "markdown",
   "id": "ae108f44-4fcd-4592-a8bc-3a0e0f0daf73",
   "metadata": {},
   "source": [
    "# Taxonomical annotation (GTDB-tk)"
   ]
  },
  {
   "cell_type": "code",
   "execution_count": null,
   "id": "1ac0ae91-2c31-4e14-80c0-c69adee98912",
   "metadata": {},
   "outputs": [],
   "source": [
    "string ='''\n",
    "#PBS -l nodes=1:ppn=20\n",
    "#PBS -l walltime=6:00:00\n",
    "#PBS -l mem=150gb\n",
    "#PBS -q smp\n",
    "#PBS -S /bin/bash\n",
    "# Activate conda enviroment\n",
    "source /beegfs/work/workspace/ws/ho_kezau83-conda-0/conda/etc/profile.d/conda.sh\n",
    "conda activate gtdbtk\n",
    "# Run\n",
    "gtdbtk classify_wf --genome_dir %s --extension fa --out_dir %s --cpus 20\n",
    "'''\n",
    "path_genomes = ws+'/drep/dereplicated_genomes/'\n",
    "out_dir = ws+'/gtdb_classify_drep'\n",
    "!mkdir $out_dir\n",
    "bash(string%(path_genomes, out_dir), 'gtdbtk_classify', 'smp')"
   ]
  },
  {
   "cell_type": "markdown",
   "id": "84ff0228-6ca1-4007-8742-5202f68eeda1",
   "metadata": {},
   "source": [
    "# Make a tree"
   ]
  },
  {
   "cell_type": "code",
   "execution_count": null,
   "id": "5b7a0039-b218-4af4-821d-e563c49e269d",
   "metadata": {},
   "outputs": [],
   "source": [
    "#config file fot Phyloplan\n",
    "string = '''\n",
    "#PBS -l nodes=1:ppn=10\n",
    "#PBS -l walltime=01:00:00\n",
    "#PBS -l mem=10gb\n",
    "#PBS -S /bin/bash\n",
    "\n",
    "source /beegfs/work/workspace/ws/ho_kezau83-conda-0/conda/etc/profile.d/conda.sh\n",
    "conda activate phylophlan\n",
    "\n",
    "phylophlan_write_config_file -o %s \\\n",
    "    -d a \\\n",
    "    --db_aa diamond \\\n",
    "    --map_aa diamond \\\n",
    "    --msa mafft \\\n",
    "    --trim trimal \\\n",
    "    --tree1 fasttree \\\n",
    "    --tree2 raxml\n",
    "\n",
    "conda deactivate\n",
    "'''\n",
    "out_file = ws+'/custom_config_nt.cfg'\n",
    "bash(string%(out_file),'phylophlan_custom','short')"
   ]
  },
  {
   "cell_type": "code",
   "execution_count": null,
   "id": "5d0d59e0-a414-47ca-bd6a-1c802d1e1cfc",
   "metadata": {},
   "outputs": [],
   "source": [
    "#run Phylophlan\n",
    "string = '''\n",
    "#PBS -l nodes=1:ppn=20\n",
    "#PBS -l walltime=24:00:00\n",
    "#PBS -l mem=200gb\n",
    "#PBS -S /bin/bash\n",
    "\n",
    "source /beegfs/work/workspace/ws/ho_kezau83-conda-0/conda/etc/profile.d/conda.sh\n",
    "conda activate phylophlan\n",
    "\n",
    "cd /beegfs/work/workspace/ws/ho_kezau83-silage_timetrial-0/phylophlan\n",
    "\n",
    "\n",
    "python /beegfs/work/workspace/ws/ho_kezau83-conda-0/phylophlan/phylophlan/phylophlan.py -i %s \\\n",
    "    --output_folder %s \\\n",
    "    --genome_extension .fasta \\\n",
    "    -d phylophlan \\\n",
    "    -t a \\\n",
    "    --diversity medium \\\n",
    "    -f %s \\\n",
    "    --nproc 20 \\\n",
    "'''\n",
    "!mkdir phylophlan\n",
    "genomes = ws+'/padloc/proteomes/'\n",
    "out_file = ws+'/phylophlan'\n",
    "config = ws+'/custom_config_nt.cfg'\n",
    "bash(string%(genomes, out_file, config),'phylophlan','smp')"
   ]
  },
  {
   "cell_type": "markdown",
   "id": "b4de778d-0be5-4138-bce5-12a771a20cf4",
   "metadata": {},
   "source": [
    "# MAGs coverage"
   ]
  },
  {
   "cell_type": "code",
   "execution_count": null,
   "id": "0ae8709f-aa3a-4b9d-8503-c3df932aadea",
   "metadata": {},
   "outputs": [],
   "source": [
    "string = '''\n",
    "#PBS -l nodes=1:ppn=16\n",
    "#PBS -l walltime=24:00:00\n",
    "#PBS -l mem=64gb\n",
    "#PBS -S /bin/bash\n",
    "\n",
    "# Activate conda enviroment\n",
    "source /beegfs/work/workspace/ws/ho_kezau83-conda-0/conda/etc/profile.d/conda.sh\n",
    "conda activate coverm\n",
    "\n",
    "cd /beegfs/work/workspace/ws/ho_kezau83-silage_timetrial-0\n",
    "\n",
    "# Run\n",
    "TMPDIR=. coverm genome -t 14 -c %s %s %s %s %s %s %s %s %s %s %s %s %s %s %s %s %s %s %s %s %s %s %s %s %s %s %s %s %s %s %s %s %s %s %s %s \\\n",
    "-d %s -x fa -o coverM_output.tsv\n",
    "'''\n",
    "read1_1 = ws+'/NoAdapt_reads/T0A_trimmed_1.fastq'\n",
    "read1_2 = ws+'/NoAdapt_reads/T0A_trimmed_2.fastq'\n",
    "read2_1 = ws+'/NoAdapt_reads/T0B_trimmed_1.fastq'\n",
    "read2_2 = ws+'/NoAdapt_reads/T0B_trimmed_2.fastq'\n",
    "read3_1 = ws+'/NoAdapt_reads/T0C_trimmed_1.fastq'\n",
    "read3_2 = ws+'/NoAdapt_reads/T0C_trimmed_2.fastq'\n",
    "read4_1 = ws+'/NoAdapt_reads/C2A_trimmed_1.fastq'\n",
    "read4_2 = ws+'/NoAdapt_reads/C2A_trimmed_2.fastq'\n",
    "read5_1 = ws+'/NoAdapt_reads/C2B_trimmed_1.fastq'\n",
    "read5_2 = ws+'/NoAdapt_reads/C2B_trimmed_2.fastq'\n",
    "read6_1 = ws+'/NoAdapt_reads/C2C_trimmed_1.fastq'\n",
    "read6_2 = ws+'/NoAdapt_reads/C2C_trimmed_2.fastq'\n",
    "read7_1 = ws+'/NoAdapt_reads/C4A_trimmed_1.fastq'\n",
    "read7_2 = ws+'/NoAdapt_reads/C4A_trimmed_2.fastq'\n",
    "read8_1 = ws+'/NoAdapt_reads/C4B_trimmed_1.fastq'\n",
    "read8_2 = ws+'/NoAdapt_reads/C4B_trimmed_2.fastq'\n",
    "read9_1 = ws+'/NoAdapt_reads/C4C_trimmed_1.fastq'\n",
    "read9_2 = ws+'/NoAdapt_reads/C4C_trimmed_2.fastq'\n",
    "read10_1 = ws+'/NoAdapt_reads/C8A_trimmed_1.fastq'\n",
    "read10_2 = ws+'/NoAdapt_reads/C8A_trimmed_2.fastq'\n",
    "read11_1 = ws+'/NoAdapt_reads/C8B_trimmed_1.fastq'\n",
    "read11_2 = ws+'/NoAdapt_reads/C8B_trimmed_2.fastq'\n",
    "read12_1 = ws+'/NoAdapt_reads/C8C_trimmed_1.fastq'\n",
    "read12_2 = ws+'/NoAdapt_reads/C8C_trimmed_2.fastq'\n",
    "read13_1 = ws+'/NoAdapt_reads/C15A_trimmed_1.fastq'\n",
    "read13_2 = ws+'/NoAdapt_reads/C15A_trimmed_2.fastq'\n",
    "read14_1 = ws+'/NoAdapt_reads/C15B_trimmed_1.fastq'\n",
    "read14_2 = ws+'/NoAdapt_reads/C15B_trimmed_2.fastq'\n",
    "read15_1 = ws+'/NoAdapt_reads/C15C_trimmed_1.fastq'\n",
    "read15_2 = ws+'/NoAdapt_reads/C15C_trimmed_2.fastq'\n",
    "read16_1 = ws+'/NoAdapt_reads/C40A_trimmed_1.fastq'\n",
    "read16_2 = ws+'/NoAdapt_reads/C40A_trimmed_2.fastq'\n",
    "read17_1 = ws+'/NoAdapt_reads/C40B_trimmed_1.fastq'\n",
    "read17_2 = ws+'/NoAdapt_reads/C40B_trimmed_2.fastq'\n",
    "read18_1 = ws+'/NoAdapt_reads/C40C_trimmed_1.fastq'\n",
    "read18_2 = ws+'/NoAdapt_reads/C40C_trimmed_2.fastq'\n",
    "\n",
    "genome_path = ws+'/drep/dereplicated_genomes'\n",
    "\n",
    "bash(string%(read1_1,read1_2,read2_1,read2_2,read3_1,read3_2,read4_1,read4_2,read5_1,read5_2,read6_1,read6_2,read7_1,read7_2,read8_1,read8_2,read9_1,read9_2,read10_1,read10_2,read11_1,read11_2,read12_1,read12_2,read13_1,read13_2,read14_1,read14_2,read15_1,read15_2,read16_1,read16_2,read17_1,read17_2,read18_1,read18_2,genome_path), 'coverM', 'short')"
   ]
  },
  {
   "cell_type": "markdown",
   "id": "34a1c7eb-003e-473e-ab9b-1f86b26e2aa2",
   "metadata": {},
   "source": [
    "# Metabolic prediction"
   ]
  },
  {
   "cell_type": "code",
   "execution_count": null,
   "id": "d792d978-b9d8-4c83-ab38-35ee45931101",
   "metadata": {},
   "outputs": [],
   "source": [
    "# A script for running metabolic needs to be created first\n",
    "# Genomes shoudl have .fasta extension\n",
    "def metabolic(string,name):\n",
    "  script = \"%s.sh\"%name                 #script to write a command\n",
    "  with open(script, \"w\") as text_file:  #create and open file\n",
    "    text_file.write(string)             #write a command into the file \n",
    "  !chmod +x $script                     #make it executable\n",
    "\n",
    "metabolic_script = '''\n",
    "#!/bin/bash\n",
    ". /opt/miniconda/etc/profile.d/conda.sh\n",
    "conda activate metabolic\n",
    "\n",
    "# Run\n",
    "perl /opt/METABOLIC/METABOLIC-C.pl -in-gn %s -o %s -r %s\n",
    "\n",
    "'''\n",
    "genomes_folder = ws+'/drep/dereplicated_genomes'\n",
    "path_output = ws+'/Metabolic_results_drep'\n",
    "path_files = ws+ '/path_files_clean.txt'\n",
    "!mkdir $path_output\n",
    "metabolic(metabolic_script%(genomes_folder,path_output, path_files),'metabolic_script')"
   ]
  },
  {
   "cell_type": "code",
   "execution_count": null,
   "id": "e132269e-80bc-4118-b093-05bdeff3745e",
   "metadata": {},
   "outputs": [],
   "source": [
    "# The previous created script is run via singularity\n",
    "string = '''\n",
    "#PBS -l nodes=1:ppn=20\n",
    "#PBS -l walltime=4:00:00\n",
    "#PBS -l mem=200gb\n",
    "#PBS -S /bin/bash\n",
    "\n",
    "singularity exec /beegfs/work/workspace/ws/ho_kezau83-conda-0/metabolic/metabolic-4.0.sif \\\n",
    "/bin/bash \\\n",
    "%s\n",
    "'''\n",
    "script_path = ws+'/metabolic_script.sh'\n",
    "bash(string%(script_path),'metabolic_prediction','smp')"
   ]
  },
  {
   "cell_type": "code",
   "execution_count": 9,
   "id": "d661980e-d8bc-4ad5-805c-20bad2f4a082",
   "metadata": {},
   "outputs": [
    {
     "name": "stdout",
     "output_type": "stream",
     "text": [
      "10717912\n"
     ]
    }
   ],
   "source": [
    "# annotation with DRAM\n",
    "string = '''\n",
    "#PBS -l nodes=1:ppn=20\n",
    "#PBS -l walltime=24:00:00\n",
    "#PBS -l mem=200gb\n",
    "#PBS -S /bin/bash\n",
    "\n",
    "#activate conda\n",
    "source /beegfs/work/workspace/ws/ho_kezau83-conda-0/conda/etc/profile.d/conda.sh\n",
    "conda activate DRAM\n",
    "\n",
    "#run program\n",
    "DRAM.py annotate -i '/beegfs/work/workspace/ws/ho_kezau83-silage_timetrial-0/drep/dereplicated_genomes/*.fasta' -o %s\n",
    "'''\n",
    "\n",
    "out_folder= ws+'/dram_out_bins/'\n",
    "bash(string%(out_folder), 'dram', 'smp')"
   ]
  },
  {
   "cell_type": "code",
   "execution_count": 5,
   "id": "1d316c3b-3b27-4d32-b54a-63a317874231",
   "metadata": {},
   "outputs": [
    {
     "name": "stdout",
     "output_type": "stream",
     "text": [
      "10721136\n"
     ]
    }
   ],
   "source": [
    "#distill functions with DRAM\n",
    "string = '''\n",
    "#PBS -l nodes=1:ppn=20\n",
    "#PBS -l walltime=24:00:00\n",
    "#PBS -l mem=200gb\n",
    "#PBS -S /bin/bash\n",
    "\n",
    "#activate conda\n",
    "source /beegfs/work/workspace/ws/ho_kezau83-conda-0/conda/etc/profile.d/conda.sh\n",
    "conda activate DRAM\n",
    "\n",
    "#run program\n",
    "DRAM.py distill -i %s -o %s --trna_path %s --rrna_path %s \n",
    "'''\n",
    "in_file = ws+'/dram_out_bins/annotations.tsv'\n",
    "out_folder= ws+'/dram_out_bins/distilled'\n",
    "trna =  ws+'/dram_out_bins/trnas.tsv'\n",
    "rrna = ws+'/dram_out_bins/rrnas.tsv'\n",
    "bash(string%(in_file, out_folder, trna,rrna), 'dram-distilled', 'smp')"
   ]
  },
  {
   "cell_type": "markdown",
   "id": "002b4810-f03a-4f77-aae4-6ff2509905a3",
   "metadata": {},
   "source": [
    "# Defence system search"
   ]
  },
  {
   "cell_type": "code",
   "execution_count": null,
   "id": "8240acbb-e462-40c9-ab1f-086917e25324",
   "metadata": {},
   "outputs": [],
   "source": [
    "genomes = sorted(list(set([f.split('.fa')[0] for f in os.listdir('final_bins/')])))\n",
    "genomes\n"
   ]
  },
  {
   "cell_type": "code",
   "execution_count": null,
   "id": "1cd2b79c-9bb1-42b8-b13a-40f173fa570a",
   "metadata": {},
   "outputs": [],
   "source": [
    "#Use PADLOC to predict ds in the MAGs\n",
    "string = '''\n",
    "#PBS -l nodes=1:ppn=10\n",
    "#PBS -l walltime=08:00:00\n",
    "#PBS -l mem=60gb\n",
    "#PBS -S /bin/bash\n",
    "\n",
    "source /beegfs/work/workspace/ws/ho_kezau83-conda-0/conda/etc/profile.d/conda.sh\n",
    "conda activate padloc\n",
    "\n",
    "cd /beegfs/work/workspace/ws/ho_kezau83-silage_timetrial-0/padloc_no_drep\n",
    "padloc --fna %s --cpu 10\n",
    "'''\n",
    "!mkdir padloc_no_drep\n",
    "for genome in genomes:\n",
    "    path_genomes_fasta = ws+'/final_bins/%s.fa' %genome\n",
    "    bash(string%(path_genomes_fasta),'%s_padloc'%genome,'short')"
   ]
  },
  {
   "cell_type": "code",
   "execution_count": null,
   "id": "305e9bba-e9f1-4ae8-a561-581677c893df",
   "metadata": {},
   "outputs": [],
   "source": [
    "#zip al results in csv format\n",
    "!zip padloc_result padloc/*.csv"
   ]
  },
  {
   "cell_type": "markdown",
   "id": "d2834826-f620-4de9-8925-910806508c1c",
   "metadata": {},
   "source": [
    "# CRISPR-cas detection"
   ]
  },
  {
   "cell_type": "code",
   "execution_count": null,
   "id": "729645c9-2096-4f0e-93c4-3ebcc5072fe0",
   "metadata": {},
   "outputs": [],
   "source": [
    "#make a list of all MAGs\n",
    "bin_name = sorted(list(set([f.split('.fa')[0] for f in os.listdir('final_bins')])))\n",
    "bin_name"
   ]
  },
  {
   "cell_type": "code",
   "execution_count": null,
   "id": "931ad0a0-e1bc-472b-bfde-c89c471ae1a1",
   "metadata": {},
   "outputs": [],
   "source": [
    "# add bin name to contigs\n",
    "for bin in bin_name:\n",
    "    file = ws+'/final_bins/%s.fa' % bin\n",
    "    out = ws+'/final_bins/bins_labeled/%s.fa' % bin\n",
    "    header = r\"s/>/>'{}'_/g\".format(bin) \n",
    "    !sed $'{header}' $file > $out "
   ]
  },
  {
   "cell_type": "code",
   "execution_count": null,
   "id": "de641255-daf9-431a-b59d-367def4a93e6",
   "metadata": {},
   "outputs": [],
   "source": [
    "string = '''\n",
    "#PBS -l nodes=1:ppn=10\n",
    "#PBS -l walltime=2:00:00\n",
    "#PBS -l mem=60gb\n",
    "#PBS -S /bin/bash\n",
    "\n",
    "source /beegfs/work/workspace/ws/ho_kezau83-conda-0/conda/etc/profile.d/conda.sh\n",
    "conda activate cctyper\n",
    "\n",
    "cctyper %s %s --prodigal meta --no_plot -t 10\n",
    "\n",
    "conda deactivate\n",
    "'''\n",
    "!mkdir cctyper\n",
    "for bin in bin_name:\n",
    "    path_genomes_fasta = ws+'/final_bins/bins_labeled/%s.fa' %bin\n",
    "    out_path = ws+'/cctyper/%s' %bin\n",
    "    bash(string%(path_genomes_fasta, out_path, ),'%s_cctyper'%bin,'short')"
   ]
  },
  {
   "cell_type": "code",
   "execution_count": null,
   "id": "6c09b700-a898-49c0-bf52-209eec33498f",
   "metadata": {},
   "outputs": [],
   "source": [
    "# move sapcer to the new directory \n",
    "!mkdir spacers\n",
    "for bin in bin_name:\n",
    "  oldass = ws+'/cctyper/%s/spacers/*' %bin\n",
    "  newass = ws+'/spacers/'\n",
    "  !cp $oldass $newass"
   ]
  },
  {
   "cell_type": "code",
   "execution_count": null,
   "id": "881ae68d-9f1a-41ff-9825-0d0a600c0182",
   "metadata": {},
   "outputs": [],
   "source": [
    "# move CRISPR-Cas-loci to the new directory \n",
    "!mkdir crispr_cas_loci\n",
    "for genome in genomes:\n",
    "  oldass = ws+'/cctyper/%s/CRISPR_Cas.tab' %genome\n",
    "  newass = ws+'/crispr_cas_loci/%s_CRISPR_Cas.tab' %genome\n",
    "  !cp $oldass $newass"
   ]
  },
  {
   "cell_type": "code",
   "execution_count": null,
   "id": "d3a7081e-314f-47fd-b595-ad90b481dcbe",
   "metadata": {},
   "outputs": [],
   "source": [
    "reads"
   ]
  },
  {
   "cell_type": "code",
   "execution_count": null,
   "id": "7c34ee0f-9de4-4173-93a3-ba9161dd9cbb",
   "metadata": {},
   "outputs": [],
   "source": [
    "!qselect -u ho_kezau83 -s R | xargs qdel\n"
   ]
  },
  {
   "cell_type": "markdown",
   "id": "9b658d0a-7ce8-4f9f-99f4-5e378746ef4f",
   "metadata": {},
   "source": [
    "# Phage detection"
   ]
  },
  {
   "cell_type": "code",
   "execution_count": null,
   "id": "6ecf54d9-cf2d-4e3b-8c0c-734e5cfefc49",
   "metadata": {},
   "outputs": [],
   "source": [
    "# add metagenome names in the headers of contigs for the hungate collection\n",
    "for read in reads:\n",
    "    file = ws+'/contigs_filtered/%s_contigs_filtered.fasta' % read\n",
    "    out = ws+'/contigs_rename/%s_contigs.fasta' % read\n",
    "    header = r\"s/>/>'{}'_/g\".format(read) \n",
    "    !sed $'{header}' $file > $out "
   ]
  },
  {
   "cell_type": "code",
   "execution_count": null,
   "id": "4bb5c194-785e-40b7-820e-404d42e6ff7a",
   "metadata": {},
   "outputs": [],
   "source": [
    "#virsoter2\n",
    "#\n",
    "string = '''\n",
    "#PBS -l nodes=1:ppn=30\n",
    "#PBS -l walltime=1:00:00:00\n",
    "#PBS -l mem=300gb\n",
    "#PBS -S /bin/bash\n",
    "\n",
    "#activate conda\n",
    "source /beegfs/work/workspace/ws/ho_kezau83-conda-0/conda/etc/profile.d/conda.sh\n",
    "conda activate vs2\n",
    "\n",
    "#run program\n",
    "virsorter run --keep-original-seq -i %s -w %s --min-length 5000 -j 30 all\n",
    "'''\n",
    "in_file = ws+'/contigs_rename/all_contigs.fasta'\n",
    "out_file = ws+'/vs2_out'\n",
    "!mkdir $out_file\n",
    "bash(string%(in_file, out_file), 'vs2', 'smp')"
   ]
  },
  {
   "cell_type": "code",
   "execution_count": null,
   "id": "6aad286c-a137-4f97-b4ba-86d4fd2c8fdb",
   "metadata": {},
   "outputs": [],
   "source": [
    "#vibrant\n",
    "string = '''\n",
    "#PBS -l nodes=1:ppn=30\n",
    "#PBS -l walltime=12:00:00\n",
    "#PBS -l mem=300gb\n",
    "#PBS -S /bin/bash\n",
    "\n",
    "#activate conda\n",
    "source /beegfs/work/workspace/ws/ho_kezau83-conda-0/conda/etc/profile.d/conda.sh\n",
    "conda activate vibrant\n",
    "\n",
    "#run program\n",
    "VIBRANT_run.py -t 30 -i %s  -f nucl -folder %s -l 9999\n",
    "'''\n",
    "in_file = ws+'/contigs_rename/all_contigs.fasta'\n",
    "out_file = ws+'/vibrant_out_9999'\n",
    "!mkdir $out_file\n",
    "bash(string%(in_file, out_file), 'vibrant', 'smp')"
   ]
  },
  {
   "cell_type": "markdown",
   "id": "118629a5-a19c-4373-805c-863d256f33fe",
   "metadata": {},
   "source": [
    "# dereplicate phages"
   ]
  },
  {
   "cell_type": "code",
   "execution_count": null,
   "id": "02b86e7a-2b8e-422a-a58d-b0fba3dfc4ef",
   "metadata": {},
   "outputs": [],
   "source": [
    "string = '''\n",
    "#PBS -l nodes=1:ppn=25\n",
    "#PBS -l walltime=5:00:00:00\n",
    "#PBS -l mem=200gb\n",
    "#PBS -S /bin/bash\n",
    "source /beegfs/work/workspace/ws/ho_kezau83-conda-0/conda/etc/profile.d/conda.sh\n",
    "conda activate drep\n",
    "dRep dereplicate -d -p 25 %s -g %s --S_algorithm ANImf -nc .5 -l 5000 -N50W 0 -sizeW 1 --ignoreGenomeQuality --clusterAlg single\n",
    "'''\n",
    "\n",
    "!mkdir drep_phages\n",
    "drep_out = ws+'/drep_phages'\n",
    "genomes_path = ws+'/phages/*.fasta'\n",
    "bash(string%(drep_out, genomes_path), 'drep', 'smp')"
   ]
  },
  {
   "cell_type": "code",
   "execution_count": null,
   "id": "df2f8e02-9b15-46c9-a4a7-461604798992",
   "metadata": {},
   "outputs": [],
   "source": [
    "#checkV\n",
    "#clean the viral contigs\n",
    "string = '''\n",
    "#PBS -l nodes=1:ppn=25\n",
    "#PBS -l walltime=72:00:00\n",
    "#PBS -l mem=250gb\n",
    "#PBS -S /bin/bash\n",
    "\n",
    "#activate conda\n",
    "source /beegfs/work/workspace/ws/ho_kezau83-conda-0/conda/etc/profile.d/conda.sh\n",
    "conda activate checkv\n",
    "\n",
    "checkv end_to_end %s %s -t 25 -d %s\n",
    "\n",
    "conda deactivate\n",
    "'''\n",
    "in_file = ws+'/drep_phages/dereplicated_genomes/drep_all_phages.fasta'\n",
    "db = '/beegfs/work/workspace/ws/ho_kezau83-conda-0/checkv_db/checkv-db-v1.0'\n",
    "out_file = ws+'/checkv'\n",
    "!mkdir $out_file\n",
    "bash(string%(in_file, out_file, db), 'checkv', 'smp')"
   ]
  },
  {
   "cell_type": "code",
   "execution_count": null,
   "id": "584b30c3-c384-420b-8439-30063c36d3a0",
   "metadata": {},
   "outputs": [],
   "source": [
    "#merge provirus and virus\n",
    "!cat checkv/proviruses.fna checkv/viruses.fna > checkv/all_virus.fna"
   ]
  },
  {
   "cell_type": "code",
   "execution_count": null,
   "id": "ed135f0f-bd85-4f2d-931d-0af37f01e46d",
   "metadata": {},
   "outputs": [],
   "source": [
    "#filter phages by qc and length. Filtering of ID was done in R \n",
    "!cat checkv/all_virus.fna | grep -A 1 -f checkv/phages_id_10000kb.txt > checkv/filtered_phages.fasta"
   ]
  },
  {
   "cell_type": "code",
   "execution_count": null,
   "id": "d8bdd8d9-9a9c-4cfd-98d7-1832a04c77f3",
   "metadata": {},
   "outputs": [],
   "source": [
    "!cat checkv/filtered_phages.fasta | sed 's/--//g' > checkv/filtered_phages_clean.fasta"
   ]
  },
  {
   "cell_type": "code",
   "execution_count": null,
   "id": "55118598-8ae2-41d0-9f71-7c87899f9588",
   "metadata": {},
   "outputs": [],
   "source": [
    "!cat checkv/filtered_phages.fasta | grep \">\" | wc"
   ]
  },
  {
   "cell_type": "markdown",
   "id": "0ab79066-7077-41e1-899f-c3274f74d609",
   "metadata": {},
   "source": [
    "# Match phages host"
   ]
  },
  {
   "cell_type": "code",
   "execution_count": null,
   "id": "900609a0-e9a4-4ab1-8de1-b48cf186fbf8",
   "metadata": {},
   "outputs": [],
   "source": [
    "#run gtdb_tk to create files to add MAGs to Iphop db\n",
    "string ='''\n",
    "#PBS -l nodes=1:ppn=25\n",
    "#PBS -l walltime=24:00:00\n",
    "#PBS -l mem=200gb\n",
    "#PBS -q smp\n",
    "#PBS -S /bin/bash\n",
    "# Activate conda enviroment\n",
    "source /beegfs/work/workspace/ws/ho_kezau83-conda-0/conda/etc/profile.d/conda.sh\n",
    "conda activate gtdbtk\n",
    "# Run\n",
    "gtdbtk de_novo_wf --bacteria --outgroup_taxon p__Patescibacteria --genome_dir %s --extension fa --out_dir %s --cpus 20 --force\n",
    "'''\n",
    "path_genomes = ws+'/final_bins/'\n",
    "out_dir = ws+'/gtdb_classify_iphop'\n",
    "!mkdir $out_dir\n",
    "bash(string%(path_genomes, out_dir), 'gtdbtk_classify', 'smp')"
   ]
  },
  {
   "cell_type": "code",
   "execution_count": null,
   "id": "6c99629b-a443-41ab-88a9-36bbae1edf8b",
   "metadata": {},
   "outputs": [],
   "source": [
    "#add MAGs to the Iphop db\n",
    "string = '''\n",
    "#PBS -l nodes=1:ppn=20\n",
    "#PBS -l walltime=48:00:00\n",
    "#PBS -l mem=300gb\n",
    "#PBS -S /bin/bash\n",
    "\n",
    "# Activate conda enviroment\n",
    "source /beegfs/work/workspace/ws/ho_kezau83-conda-0/conda/etc/profile.d/conda.sh\n",
    "conda activate iphop_env\n",
    "\n",
    "iphop add_to_db --fna_dir %s --gtdb_dir %s --out_dir %s --db_dir %s -t 20\n",
    "'''\n",
    "mags = ws+'/final_bins/'\n",
    "gtdb = ws+'/gtdb_classify_iphop/infer/'\n",
    "out_dir = ws+'/Sept_2021_pub_w_silage'\n",
    "iphop_db = '/beegfs/work/workspace/ws/ho_kezau83-conda-0/iphop_db/Sept_2021_pub'\n",
    "bash(string%(mags, gtdb,out_dir, iphop_db), 'iphop_add_db', 'smp')"
   ]
  },
  {
   "cell_type": "code",
   "execution_count": null,
   "id": "7b2a5237-9c8d-46e5-8711-2d37f3afe040",
   "metadata": {},
   "outputs": [],
   "source": [
    "string = '''\n",
    "#PBS -l nodes=1:ppn=20\n",
    "#PBS -l walltime=48:00:00\n",
    "#PBS -l mem=200gb\n",
    "#PBS -S /bin/bash\n",
    "\n",
    "# Activate conda enviroment\n",
    "source /beegfs/work/workspace/ws/ho_kezau83-conda-0/conda/etc/profile.d/conda.sh\n",
    "conda activate iphop_env\n",
    "\n",
    "# Run\n",
    "iphop  predict -t 20 --fa_file %s --db_dir %s --out_dir %s\n",
    "\n",
    "'''\n",
    "file = ws+'/checkv/filtered_phages_clean.fasta'\n",
    "db = '/beegfs/work/workspace/ws/ho_kezau83-conda-0/iphop_db/Sept_2021_pub'\n",
    "out_dir = ws+ '/iphop_output'\n",
    "!mkdir $out_dir\n",
    "bash(string%(file, db, out_dir), 'iphop', 'smp')"
   ]
  },
  {
   "cell_type": "code",
   "execution_count": null,
   "id": "2488c380-178d-4056-8c93-4aa327ffb23b",
   "metadata": {},
   "outputs": [],
   "source": [
    "!cat iphop_output/filtered_phages_clean_clean.fna | grep \">\" | wc"
   ]
  },
  {
   "cell_type": "markdown",
   "id": "115f49c0-919e-4dc3-bdd7-aa9bcc885044",
   "metadata": {},
   "source": [
    "# Annotate phages"
   ]
  },
  {
   "cell_type": "code",
   "execution_count": null,
   "id": "12201ade-cb5c-41f2-b3fa-cfcdcf5238c2",
   "metadata": {},
   "outputs": [],
   "source": [
    "#prodigal\n",
    "#predict genes and proteins\n",
    "string = '''\n",
    "#PBS -l nodes=1:ppn=16\n",
    "#PBS -l walltime=2:00:00\n",
    "#PBS -l mem=64gb\n",
    "#PBS -S /bin/bash\n",
    "\n",
    "#activate conda\n",
    "source /beegfs/work/workspace/ws/ho_kezau83-conda-0/conda/etc/profile.d/conda.sh\n",
    "conda activate padloc\n",
    "\n",
    "prodigal -i %s -o %s -a %s  -p meta\n",
    "\n",
    "conda deactivate\n",
    "'''\n",
    "in_file = ws+'/checkv/filtered_phages_clean.fasta'\n",
    "outfile1 = ws+'/checkv/filtered_phages_clean.gbk'\n",
    "outfile2 = ws+'/checkv/filtered_phages_clean.faa'\n",
    "bash(string%(in_file, outfile1, outfile2), 'prodigal', 'short')"
   ]
  },
  {
   "cell_type": "code",
   "execution_count": null,
   "id": "c83b0828-271d-47e4-82d6-333b4029bc1d",
   "metadata": {},
   "outputs": [],
   "source": [
    "#vcontact2\n",
    "#create a map genes to genomes\n",
    "string = '''\n",
    "#PBS -l nodes=1:ppn=16\n",
    "#PBS -l walltime=2:00:00\n",
    "#PBS -l mem=64gb\n",
    "#PBS -S /bin/bash\n",
    "\n",
    "source /beegfs/work/workspace/ws/ho_kezau83-conda-0/conda/etc/profile.d/conda.sh\n",
    "conda activate vContact2\n",
    "\n",
    "vcontact2_gene2genome -p %s -o %s -s 'Prodigal-FAA'\n",
    "\n",
    "conda deactivate\n",
    "'''\n",
    "\n",
    "infile = ws+'/checkv/filtered_phages_clean.faa'\n",
    "outfile = ws+'/checkv/phages_genomes_g2g.csv'\n",
    "bash(string%(infile, outfile), 'vcontact2', 'short')"
   ]
  },
  {
   "cell_type": "code",
   "execution_count": null,
   "id": "a01564f8-ac46-4b0b-9d30-4def5cb9529b",
   "metadata": {},
   "outputs": [],
   "source": [
    "#vcontact2\n",
    "string = '''\n",
    "#PBS -l nodes=1:ppn=20\n",
    "#PBS -l walltime=48:00:00\n",
    "#PBS -l mem=200gb\n",
    "#PBS -S /bin/bash\n",
    "\n",
    "module load devel/java_jdk/11.0.4\n",
    "#activate conda\n",
    "source /beegfs/work/workspace/ws/ho_kezau83-conda-0/conda/etc/profile.d/conda.sh\n",
    "conda activate vContact2\n",
    "\n",
    "vcontact2 --raw-proteins %s \\\n",
    "--proteins-fp %s \\\n",
    "--db 'None' \\\n",
    "--pcs-mode MCL \\\n",
    "--vcs-mode ClusterONE \\\n",
    "--c1-bin /beegfs/work/workspace/ws/ho_kezau83-conda-0/conda/envs/vContact2/bin/cluster_one-1.0.jar \\\n",
    "--output-dir %s \\\n",
    "-t 20\n",
    "\n",
    "conda deactivate\n",
    "'''\n",
    "infile = ws+'/inphared/inphared_silage_phages.faa'\n",
    "g2g = ws+'/inphared/gene_to_genome.csv'\n",
    "outfile = ws+'/vcontact2_inphared'\n",
    "!mkdir $outfile\n",
    "bash(string%(infile, g2g, outfile), 'vcontact2_anno', 'smp')"
   ]
  },
  {
   "cell_type": "code",
   "execution_count": null,
   "id": "6a78ddd0-5bb5-43ee-81c1-ae315af40749",
   "metadata": {},
   "outputs": [],
   "source": [
    "#taxonomy with PhageGCN\n",
    "string = '''\n",
    "#PBS -l nodes=1:ppn=16\n",
    "#PBS -l walltime=24:00:00\n",
    "#PBS -l mem=64gb\n",
    "#PBS -S /bin/bash\n",
    "\n",
    "source /beegfs/work/workspace/ws/ho_kezau83-conda-0/conda/etc/profile.d/conda.sh\n",
    "conda activate PhaGCN\n",
    "\n",
    "python /beegfs/work/workspace/ws/ho_kezau83-conda-0/PhaGCN/run_Speed_up.py --contigs %s --len 8000\n",
    "\n",
    "conda deactivate\n",
    "'''\n",
    "\n",
    "infile = ws+'/checkv/filtered_phages_clean.fasta'\n",
    "\n",
    "bash(string%(infile), 'PhageGCN', 'short')"
   ]
  },
  {
   "cell_type": "markdown",
   "id": "8ce41109-a31a-4a91-9cbf-7d4d8d1c0763",
   "metadata": {},
   "source": [
    "# phages coverage"
   ]
  },
  {
   "cell_type": "code",
   "execution_count": null,
   "id": "8b084b13-d99a-489f-96aa-6c8272b9cad1",
   "metadata": {},
   "outputs": [],
   "source": [
    "string = '''\n",
    "#PBS -l nodes=1:ppn=16\n",
    "#PBS -l walltime=24:00:00\n",
    "#PBS -l mem=64gb\n",
    "#PBS -S /bin/bash\n",
    "\n",
    "# Activate conda enviroment\n",
    "source /beegfs/work/workspace/ws/ho_kezau83-conda-0/conda/etc/profile.d/conda.sh\n",
    "conda activate coverm\n",
    "\n",
    "cd /beegfs/work/workspace/ws/ho_kezau83-silage_timetrial-0\n",
    "\n",
    "# Run\n",
    "TMPDIR=. coverm contig -t 14 -c %s %s -r %s -o %s -m rpkm\n",
    "'''\n",
    "!mkdir coverm_phages\n",
    "for read in reads:\n",
    "    read1 = ws+'/NoAdapt_reads/%s_trimmed_1.fastq' %read\n",
    "    read2 = ws+'/NoAdapt_reads/%s_trimmed_2.fastq' %read\n",
    "    phages = ws+'/checkv/filtered_phages_clean.fasta'\n",
    "    out_file = ws+'/coverm_phages/%s_coverm.tsv' %read\n",
    "    bash(string%(read1,read2,phages,out_file), '%s_coverM'%read, 'short')"
   ]
  },
  {
   "cell_type": "code",
   "execution_count": null,
   "id": "588b51c7-2390-439a-a432-0bd97db65614",
   "metadata": {},
   "outputs": [],
   "source": [
    "#compress files\n",
    "!zip coverm_phages coverm_phages/*"
   ]
  },
  {
   "cell_type": "markdown",
   "id": "4630152b-16a7-4e67-912c-1e08d7978fad",
   "metadata": {},
   "source": [
    "# Viral functional annotation"
   ]
  },
  {
   "cell_type": "code",
   "execution_count": null,
   "id": "c73b9543-dc64-465f-8c07-87391a0402a0",
   "metadata": {},
   "outputs": [],
   "source": [
    "#setup DB\n",
    "string = '''\n",
    "#PBS -l nodes=1:ppn=5\n",
    "#PBS -l walltime=24:00:00\n",
    "#PBS -l mem=300gb\n",
    "#PBS -S /bin/bash\n",
    "\n",
    "# Activate conda enviroment\n",
    "source /beegfs/work/workspace/ws/ho_kezau83-conda-0/conda/etc/profile.d/conda.sh\n",
    "conda activate DRAM\n",
    "\n",
    "cd /beegfs/work/workspace/ws/ho_kezau83-conda-0/DRAM_data/\n",
    "\n",
    "DRAM-setup.py prepare_databases --output_dir %s --threads 5\n",
    "'''\n",
    "\n",
    "db_path = '/beegfs/work/workspace/ws/ho_kezau83-conda-0/DRAM_data/'\n",
    "bash(string%(db_path), 'dram_setup', 'smp')"
   ]
  },
  {
   "cell_type": "code",
   "execution_count": null,
   "id": "128862eb-92f0-459e-a267-676dc3aae867",
   "metadata": {},
   "outputs": [],
   "source": [
    "#fix DB\n",
    "string = '''\n",
    "#PBS -l nodes=1:ppn=10\n",
    "#PBS -l walltime=24:00:00\n",
    "#PBS -l mem=64gb\n",
    "#PBS -S /bin/bash\n",
    "\n",
    "# Activate conda enviroment\n",
    "source /beegfs/work/workspace/ws/ho_kezau83-conda-0/conda/etc/profile.d/conda.sh\n",
    "conda activate DRAM\n",
    "\n",
    "cd /beegfs/work/workspace/ws/ho_kezau83-conda-0/DRAM_data/\n",
    "DRAM-setup.py update_description_db\n",
    "'''\n",
    "bash(string,'dram_fix', 'short')"
   ]
  },
  {
   "cell_type": "code",
   "execution_count": null,
   "id": "36a43924-5af5-489b-beba-9162654e6ba5",
   "metadata": {},
   "outputs": [],
   "source": [
    "#Use Virsorter to match DRAM format of viral contigs\n",
    "\n",
    "string = '''\n",
    "#PBS -l nodes=1:ppn=14\n",
    "#PBS -l walltime=1:00:00:00\n",
    "#PBS -l mem=64gb\n",
    "#PBS -S /bin/bash\n",
    "\n",
    "#activate conda\n",
    "source /beegfs/work/workspace/ws/ho_kezau83-conda-0/conda/etc/profile.d/conda.sh\n",
    "conda activate vs2\n",
    "\n",
    "#run program\n",
    "virsorter run --seqname-suffix-off --viral-gene-enrich-off --prep-for-dramv -i %s -w %s -j 14 all\n",
    "'''\n",
    "in_file = ws+'/checkv/filtered_phages_clean.fasta'\n",
    "out_file = ws+'/vs2_dram'\n",
    "!mkdir $out_file\n",
    "bash(string%(in_file, out_file), 'vs2_to_dram', 'short')"
   ]
  },
  {
   "cell_type": "code",
   "execution_count": 13,
   "id": "e7f686c4-550c-4370-a966-afa5abc863c9",
   "metadata": {},
   "outputs": [
    {
     "name": "stdout",
     "output_type": "stream",
     "text": [
      "10714236\n"
     ]
    }
   ],
   "source": [
    "#Annotate with DRAM\n",
    "string = '''\n",
    "#PBS -l nodes=1:ppn=20\n",
    "#PBS -l walltime=24:00:00\n",
    "#PBS -l mem=200gb\n",
    "#PBS -S /bin/bash\n",
    "\n",
    "#activate conda\n",
    "source /beegfs/work/workspace/ws/ho_kezau83-conda-0/conda/etc/profile.d/conda.sh\n",
    "conda activate DRAM\n",
    "\n",
    "#run program\n",
    "DRAM-v.py annotate -i %s -v %s -o %s\n",
    "'''\n",
    "\n",
    "in_file = ws+'/vs2_dram/for-dramv/final-viral-combined-for-dramv.fa'\n",
    "in_virsorter = ws+'/vs2_dram/for-dramv/viral-affi-contigs-for-dramv.tab'\n",
    "out_folder= ws+'/dram_out'\n",
    "bash(string%(in_file, in_virsorter, out_folder), 'dram-v', 'smp')"
   ]
  },
  {
   "cell_type": "code",
   "execution_count": 14,
   "id": "9ba9b7f3-9de0-47db-9976-6fb744e87a09",
   "metadata": {},
   "outputs": [
    {
     "name": "stdout",
     "output_type": "stream",
     "text": [
      "10714237\n"
     ]
    }
   ],
   "source": [
    "#distill functions with DRAM\n",
    "\n",
    "string = '''\n",
    "#PBS -l nodes=1:ppn=20\n",
    "#PBS -l walltime=24:00:00\n",
    "#PBS -l mem=200gb\n",
    "#PBS -S /bin/bash\n",
    "\n",
    "#activate conda\n",
    "source /beegfs/work/workspace/ws/ho_kezau83-conda-0/conda/etc/profile.d/conda.sh\n",
    "conda activate DRAM\n",
    "\n",
    "#run program\n",
    "DRAM-v.py distill -i %s -o %s\n",
    "'''\n",
    "in_file = ws+'/dram_out/annotations.tsv'\n",
    "out_folder= ws+'/dram_out/distilled'\n",
    "bash(string%(in_file, out_folder), 'dram-distilled', 'smp')\n"
   ]
  },
  {
   "cell_type": "markdown",
   "id": "e921a3a1-06d6-43d0-a953-ffd693da0305",
   "metadata": {},
   "source": [
    "# Active prophages"
   ]
  },
  {
   "cell_type": "code",
   "execution_count": null,
   "id": "64f7154f-1267-491d-9a42-c60c063411b4",
   "metadata": {},
   "outputs": [],
   "source": [
    "#make a list of the drep MAGs\n",
    "bin_name = sorted(list(set([f.split('.fasta')[0] for f in os.listdir('drep/dereplicated_genomes/fasta')])))\n",
    "bin_name"
   ]
  },
  {
   "cell_type": "code",
   "execution_count": null,
   "id": "17c5b60e-fd92-42b8-a381-1bc6eeabe8b3",
   "metadata": {},
   "outputs": [],
   "source": [
    "# add bin name to contigs\n",
    "for bin in bin_name:\n",
    "    file = ws+'/drep/dereplicated_genomes/fasta/%s.fasta' % bin\n",
    "    out = ws+'/drep/dereplicated_genomes/%s.fasta' % bin\n",
    "    header = r\"s/>/>'{}'_/g\".format(bin) \n",
    "    !sed $'{header}' $file > $out "
   ]
  },
  {
   "cell_type": "code",
   "execution_count": null,
   "id": "fa463e93-6a77-4bd1-aa99-2af2985470ec",
   "metadata": {},
   "outputs": [],
   "source": [
    "#merge bin contigs in one file\n",
    "!cat drep/dereplicated_genomes/*.fasta  > all_bin_contigs.fasta"
   ]
  },
  {
   "cell_type": "code",
   "execution_count": null,
   "id": "f8d2cf3b-1985-4cb1-928d-91ebdbc22d0f",
   "metadata": {},
   "outputs": [],
   "source": [
    "#find prophages with vibrant\n",
    "string = '''\n",
    "#PBS -l nodes=1:ppn=14\n",
    "#PBS -l walltime=24:00:00\n",
    "#PBS -l mem=64gb\n",
    "#PBS -S /bin/bash\n",
    "\n",
    "#activate conda\n",
    "source /beegfs/work/workspace/ws/ho_kezau83-conda-0/conda/etc/profile.d/conda.sh\n",
    "conda activate vibrant\n",
    "\n",
    "#run program\n",
    "VIBRANT_run.py -t 14 -i %s  -f nucl -folder %s -l 9999\n",
    "'''\n",
    "in_file = ws+'/all_bin_contigs.fasta'\n",
    "out_file = ws+'/vibrant_propagate'\n",
    "!mkdir $out_file\n",
    "bash(string%(in_file, out_file), 'vibrant', 'short')"
   ]
  },
  {
   "cell_type": "code",
   "execution_count": null,
   "id": "051724d9-ed3a-43ec-a231-b57eb47941b3",
   "metadata": {},
   "outputs": [],
   "source": [
    "#run PropagATE\n",
    "string = '''\n",
    "#PBS -l nodes=1:ppn=20\n",
    "#PBS -l walltime=24:00:00\n",
    "#PBS -l mem=200gb\n",
    "#PBS -S /bin/bash\n",
    "\n",
    "#activate conda\n",
    "source /beegfs/work/workspace/ws/ho_kezau83-conda-0/conda/etc/profile.d/conda.sh\n",
    "conda activate propagate\n",
    "\n",
    "#run program\n",
    "Propagate -f %s -r %s %s -v %s -o %s --clean -t 20\n",
    "'''\n",
    "prophages_file = ws+'/contigs_rename/all_contigs.fasta'\n",
    "reads_1 = ws+'/NoAdapt_reads/C2A_trimmed_1.fastq'\n",
    "reads_2 = ws+'/NoAdapt_reads/C2A_trimmed_2.fastq'\n",
    "vibrant_file = ws+'/vibrant_out_9999/VIBRANT_all_contigs/VIBRANT_results_all_contigs/VIBRANT_integrated_prophage_coordinates_all_contigs.tsv'\n",
    "out_folder = ws+'/PropagAtE_out_9999_c2'\n",
    "!mkdir $out_file\n",
    "bash(string%(prophages_file, reads_1, reads_2, vibrant_file, out_folder), 'propagATE', 'smp')"
   ]
  },
  {
   "cell_type": "markdown",
   "id": "a66ce607-7a02-461d-b445-52bfe5440a80",
   "metadata": {},
   "source": [
    "# Match sapcers wit vOTU"
   ]
  },
  {
   "cell_type": "code",
   "execution_count": null,
   "id": "932a01eb-6c7e-49dd-826f-45eddee45b8d",
   "metadata": {},
   "outputs": [],
   "source": [
    "string = '''\n",
    "#PBS -l nodes=1:ppn=16\n",
    "#PBS -l walltime=24:00:00\n",
    "#PBS -l mem=60gb\n",
    "#PBS -S /bin/bash\n",
    "module load bio/blastplus/2.5.0\n",
    "makeblastdb -in %s -out %s  -parse_seqids -dbtype nucl\n",
    "'''\n",
    "!mkdir phages_drep_db\n",
    "file_path = ws+'/checkv/filtered_phages_clean.fasta'\n",
    "db_path = ws+'/phages_drep_db/phages_drep_db'\n",
    "bash(string%(file_path, db_path),'makedb', 'short')"
   ]
  },
  {
   "cell_type": "code",
   "execution_count": null,
   "id": "e148bffb-2d27-4cc9-aad0-ea4147c0e52f",
   "metadata": {},
   "outputs": [],
   "source": [
    "string = '''\n",
    "#PBS -l nodes=1:ppn=14\n",
    "#PBS -l walltime=24:00:00\n",
    "#PBS -l mem=60gb\n",
    "#PBS -S /bin/bash\n",
    "module load bio/blastplus/2.5.0\n",
    "blastn -task blastn-short -query %s -db %s -out %s -perc_identity 95 -max_target_seqs 1 -num_threads 16 -evalue 1e-4 -outfmt 6 \n",
    "\n",
    "'''\n",
    "file_path = ws+'/all_sapcers.fasta'\n",
    "db_path = ws+'/phages_drep_db/phages_drep_db'\n",
    "out_file = ws+'/spacers_match_phages.txt'\n",
    "bash(string%(file_path, db_path,out_file),'blastn', 'short')"
   ]
  },
  {
   "cell_type": "markdown",
   "id": "acc70a15-5337-4ba9-b220-a32bc7b984e7",
   "metadata": {},
   "source": [
    "# VICTOR tree"
   ]
  },
  {
   "cell_type": "code",
   "execution_count": null,
   "id": "7dc4feb6-760e-4747-9e6c-154b8dba1c62",
   "metadata": {},
   "outputs": [],
   "source": [
    "!cp checkv/filtered_phages_clean.fasta checkv/victor/"
   ]
  },
  {
   "cell_type": "code",
   "execution_count": null,
   "id": "a56581a8-4500-450c-8d49-1982ff121094",
   "metadata": {},
   "outputs": [],
   "source": [
    "!awk '/^>/ { file=substr($1,2) \".fasta\" } { print > file }' *.fasta"
   ]
  },
  {
   "cell_type": "code",
   "execution_count": null,
   "id": "746d7873-c278-4e78-9ddd-dc3676562f85",
   "metadata": {},
   "outputs": [],
   "source": [
    "#make a list of the drep phages\n",
    "phage_name = sorted(list(set([f.split('.fasta')[0] for f in os.listdir('checkv/victor/')])))\n",
    "phage_name"
   ]
  },
  {
   "cell_type": "code",
   "execution_count": null,
   "id": "4372edbf-8579-4652-ba4b-a75daa5c6213",
   "metadata": {},
   "outputs": [],
   "source": [
    "#prodigal\n",
    "#predict genes and proteins\n",
    "string = '''\n",
    "#PBS -l nodes=1:ppn=16\n",
    "#PBS -l walltime=2:00:00\n",
    "#PBS -l mem=64gb\n",
    "#PBS -S /bin/bash\n",
    "\n",
    "#activate conda\n",
    "source /beegfs/work/workspace/ws/ho_kezau83-conda-0/conda/etc/profile.d/conda.sh\n",
    "conda activate padloc\n",
    "\n",
    "prodigal -i %s -o %s -a %s -p meta\n",
    "\n",
    "conda deactivate\n",
    "'''\n",
    "for phage in phage_name:\n",
    "    in_file = ws+'/checkv/victor/%s.fasta' %phage\n",
    "    outfile1 = ws+'/checkv/victor/%s.gbk' %phage\n",
    "    outfile2 = ws+'/checkv/victor/%s.faa' %phage\n",
    "    bash(string%(in_file, outfile1, outfile2), '%s_prodigal'%phage, 'short')"
   ]
  },
  {
   "cell_type": "code",
   "execution_count": null,
   "id": "7ab99611-c010-49c5-8ee3-039ddad2e060",
   "metadata": {},
   "outputs": [],
   "source": [
    "!zip phage_proteomes checkv/victor/*.faa"
   ]
  },
  {
   "cell_type": "code",
   "execution_count": null,
   "id": "5d00cd60-26a2-477a-9a18-7e9322eb9a22",
   "metadata": {},
   "outputs": [],
   "source": [
    "!cat spacers/* > all_sapcers.fasta"
   ]
  },
  {
   "cell_type": "code",
   "execution_count": null,
   "id": "c419e3b1-1490-4252-81f4-60a72c4e204c",
   "metadata": {},
   "outputs": [],
   "source": [
    "!qdel 10685701"
   ]
  },
  {
   "cell_type": "code",
   "execution_count": null,
   "id": "e1d150b4-a17c-4b45-a7f1-a1cbcdd34449",
   "metadata": {},
   "outputs": [],
   "source": [
    "!gunzip -d co_assembly/NoAdapt_reads/*"
   ]
  },
  {
   "cell_type": "code",
   "execution_count": null,
   "id": "4400eb80-0599-477b-87f7-f1f48bc71b39",
   "metadata": {},
   "outputs": [],
   "source": [
    "!rename .fq .fastq co_assembly/NoAdapt_reads/*"
   ]
  },
  {
   "cell_type": "code",
   "execution_count": null,
   "id": "86610e8f-54ae-4248-b280-f6eb2b326d7d",
   "metadata": {},
   "outputs": [],
   "source": [
    "!rename bin. C40C_bin. bin_refinement/C40C_bins_refined/metawrap_70_10_bins/*"
   ]
  },
  {
   "cell_type": "code",
   "execution_count": null,
   "id": "78afb559-eda1-483c-9d29-2e535e52d7e9",
   "metadata": {},
   "outputs": [],
   "source": [
    "!sed \"s/bin.[0-9]*/&.fa/g\" checkM/bin_stats_ext.csv > checkM/bin_stats_ext_clean.csv"
   ]
  },
  {
   "cell_type": "code",
   "execution_count": 12,
   "id": "65818aa4-fb0c-46bb-ae54-aa1e191171c5",
   "metadata": {},
   "outputs": [],
   "source": [
    "rm -r dram_out/"
   ]
  },
  {
   "cell_type": "code",
   "execution_count": null,
   "id": "41f8f6f6-1cd0-46f9-b6a2-d0f29594b62e",
   "metadata": {},
   "outputs": [],
   "source": [
    "!qstat -u ho_kezau83"
   ]
  },
  {
   "cell_type": "code",
   "execution_count": null,
   "id": "6f337f70-e780-4f7e-afb2-268277800606",
   "metadata": {},
   "outputs": [],
   "source": [
    "rm -r Sept_2021_pub_w_silage/"
   ]
  },
  {
   "cell_type": "code",
   "execution_count": null,
   "id": "7dac5431-27ed-40ae-866f-73abd19b6e41",
   "metadata": {},
   "outputs": [],
   "source": [
    "!cat contigs_rename/*.fasta > contigs_rename/all_contigs.fasta"
   ]
  },
  {
   "cell_type": "code",
   "execution_count": null,
   "id": "33981407-215e-4344-a358-62151d9327ba",
   "metadata": {},
   "outputs": [],
   "source": [
    "!mv NoAdapt_reads/reads_2/*_2.fastq NoAdapt_reads"
   ]
  },
  {
   "cell_type": "code",
   "execution_count": null,
   "id": "87135e77-55f9-4f7a-9b11-db4e54ea1d2d",
   "metadata": {},
   "outputs": [],
   "source": [
    "!zip all_genomes drep/dereplicated_genomes/* "
   ]
  },
  {
   "cell_type": "code",
   "execution_count": null,
   "id": "f21f94d2-82e9-4dce-a86c-dc22e0486ecf",
   "metadata": {},
   "outputs": [],
   "source": [
    "!cat drep_phages/dereplicated_genomes/drep_all_phages.fasta | grep \">\" | wc"
   ]
  },
  {
   "cell_type": "code",
   "execution_count": null,
   "id": "eaf2482b-95e9-49f8-a3bd-aa537aeab998",
   "metadata": {},
   "outputs": [],
   "source": [
    "!mkdir drep/dereplicated_genomes/fasta"
   ]
  },
  {
   "cell_type": "code",
   "execution_count": null,
   "id": "4acb04bd-db04-4a8c-88ed-c90d669429d7",
   "metadata": {},
   "outputs": [],
   "source": [
    "!mv drep/dereplicated_genomes/*.fasta drep/dereplicated_genomes/fasta/"
   ]
  }
 ],
 "metadata": {
  "kernelspec": {
   "display_name": "Python 3 (ipykernel)",
   "language": "python",
   "name": "python3"
  },
  "language_info": {
   "codemirror_mode": {
    "name": "ipython",
    "version": 3
   },
   "file_extension": ".py",
   "mimetype": "text/x-python",
   "name": "python",
   "nbconvert_exporter": "python",
   "pygments_lexer": "ipython3",
   "version": "3.8.11"
  },
  "toc-autonumbering": true,
  "toc-showmarkdowntxt": true
 },
 "nbformat": 4,
 "nbformat_minor": 5
}
